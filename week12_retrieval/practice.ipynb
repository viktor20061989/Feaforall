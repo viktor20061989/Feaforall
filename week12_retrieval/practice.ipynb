{
  "cells": [
    {
      "cell_type": "markdown",
      "metadata": {
        "id": "eAahzI9lcLUr"
      },
      "source": [
        "# Practice: question answering with retrieval\n",
        "\n",
        "In this homework you will build a retrieval-based question answering system, one component at a time.\n",
        "\n",
        "_Okay, realistically, there's like, two components, but technically it's one component at a time._\n",
        "\n",
        "\n",
        "![img](https://www.cs.upc.edu/~mlatifi/index_files/qa-logo.jpg)\n",
        "\n",
        "\n",
        "\n",
        "There are two parts to this type of systems: a retriever and a generator.\n",
        "- the retriever subsystem searches for similar texts from a given databse, e.g. wikipedia\n",
        "- the generator uses the texts found by the retriever to generate an answer in natural language\n",
        "\n",
        "_this seminar is based on original notebook by [Oleg Vasilev](https://github.com/Omrigan/)_\n",
        "\n"
      ]
    },
    {
      "cell_type": "code",
      "execution_count": 1,
      "metadata": {
        "id": "4dtN8dPocLUy"
      },
      "outputs": [],
      "source": [
        "import numpy as np\n",
        "import torch, torch.nn as nn\n",
        "import torch.nn.functional as F\n",
        "import matplotlib.pyplot as plt\n",
        "%matplotlib inline"
      ]
    },
    {
      "cell_type": "markdown",
      "metadata": {
        "id": "5ks8AlEVcLUz"
      },
      "source": [
        "### Part 0: the dataset\n",
        "\n",
        "Before we train anything, let's take a look at the question answering data that we can use. There are several popular datasets, e.g. TriviaQA for trivia questions or GSM8K for math. Today's data is Stanford Question Answering Dataset (SQuAD). Given a paragraph of text and a question, our model's task is to select a snippet that answers the question.\n",
        "\n",
        "We are not going to solve the full task today. Instead, we'll train a model to __select the sentence containing answer__ among several options.\n",
        "\n",
        "As usual, you are given an utility module with data reader and some helper functions"
      ]
    },
    {
      "cell_type": "code",
      "execution_count": 3,
      "metadata": {
        "id": "iWRei-HxcLU0",
        "colab": {
          "base_uri": "https://localhost:8080/"
        },
        "outputId": "7e65ea9b-e1ea-41f8-b390-6fb7334d6e4e"
      },
      "outputs": [
        {
          "output_type": "stream",
          "name": "stdout",
          "text": [
            "--2024-12-26 15:54:51--  https://raw.githubusercontent.com/yandexdataschool/nlp_course/2023/week_extra/retrieval/data.py\n",
            "Resolving raw.githubusercontent.com (raw.githubusercontent.com)... 185.199.108.133, 185.199.109.133, 185.199.110.133, ...\n",
            "Connecting to raw.githubusercontent.com (raw.githubusercontent.com)|185.199.108.133|:443... connected.\n",
            "HTTP request sent, awaiting response... 200 OK\n",
            "Length: 3553 (3.5K) [text/plain]\n",
            "Saving to: ‘data.py’\n",
            "\n",
            "\rdata.py               0%[                    ]       0  --.-KB/s               \rdata.py             100%[===================>]   3.47K  --.-KB/s    in 0s      \n",
            "\n",
            "2024-12-26 15:54:51 (52.2 MB/s) - ‘data.py’ saved [3553/3553]\n",
            "\n"
          ]
        },
        {
          "output_type": "stream",
          "name": "stderr",
          "text": [
            "[nltk_data] Downloading package punkt_tab to /root/nltk_data...\n",
            "[nltk_data]   Unzipping tokenizers/punkt_tab.zip.\n"
          ]
        }
      ],
      "source": [
        "%pip install --quiet transformers==4.36.2 accelerate==0.24.0 sentencepiece==0.1.99 optimum==1.13.2 auto-gptq==0.4.2\n",
        "# ^-- if this fails, remove the specific version and install latest ones: pip install --update transformers accelerate ...\n",
        "!wget https://raw.githubusercontent.com/yandexdataschool/nlp_course/2023/week_extra/retrieval/data.py -O data.py\n",
        "!wget https://rajpurkar.github.io/SQuAD-explorer/dataset/train-v2.0.json -O squad-v2.0.json 2> log\n",
        "\n",
        "import data\n",
        "import nltk\n",
        "nltk.download('punkt_tab')\n",
        "\n",
        "# backup download link: https://www.dropbox.com/s/q4fuihaerqr0itj/squad.tar.gz?dl=1\n",
        "train, test = data.build_dataset('./squad-v2.0.json')"
      ]
    },
    {
      "cell_type": "code",
      "execution_count": 4,
      "metadata": {
        "id": "KvzzSgVicLU0",
        "outputId": "480b9208-06c6-4c96-92a8-ab16c69d0940",
        "colab": {
          "base_uri": "https://localhost:8080/"
        }
      },
      "outputs": [
        {
          "output_type": "stream",
          "name": "stdout",
          "text": [
            "QUESTION Where did Beyonce get her name from? \n",
            "\n",
            "TEXT SENTENCES\n",
            "[ ] Beyoncé Giselle Knowles was born in Houston, Texas, to Celestine Ann \"Tina\" Knowles (née Beyincé), a hairdresser and salon owner, and Mathew Knowles, a Xerox sales manager.\n",
            "[v] Beyoncé's name is a tribute to her mother's maiden name.\n",
            "[ ] Beyoncé's younger sister Solange is also a singer and a former member of Destiny's Child.\n",
            "[ ] Mathew is African-American, while Tina is of Louisiana Creole descent (with African, Native American, French, Cajun, and distant Irish and Spanish ancestry).\n",
            "[ ] Through her mother, Beyoncé is a descendant of Acadian leader Joseph Broussard.\n",
            "[ ] She was raised in a Methodist household.\n"
          ]
        }
      ],
      "source": [
        "pid, question, options, correct_indices, wrong_indices = train.iloc[40]\n",
        "print('QUESTION', question, '\\n')\n",
        "print('TEXT SENTENCES')\n",
        "for i, cand in enumerate(options):\n",
        "    print(['[ ]', '[v]'][i in correct_indices], cand)"
      ]
    },
    {
      "cell_type": "markdown",
      "metadata": {
        "id": "TGxVKpjAcLU1"
      },
      "source": [
        "### Pre-trained BERT\n",
        "_(but you guessed it)_\n",
        "\n",
        "We've already solved quite a few tasks from scratch, training our own embeddings and convolutional/recurrent layers. However, one can often achieve higher quality by using pre-trained models. We will default to the good ol' [BERT](https://arxiv.org/abs/1810.04805), though, you are free to use any [other model](https://huggingface.co/models) as you see fit.\n"
      ]
    },
    {
      "cell_type": "code",
      "execution_count": 5,
      "metadata": {
        "id": "iRAdNj2IcLU1",
        "colab": {
          "base_uri": "https://localhost:8080/",
          "height": 511,
          "referenced_widgets": [
            "cdff632a321f48579120270c0d61f346",
            "51db7bf02621497eb285c001b727fb6a",
            "58ec1f342ac3431eb90601b840b79fb4",
            "457d66a2d9c14fd3b38b5c9205183238",
            "cd30e35865014df38213aee618d38d5e",
            "61ed0e8790f74724aefad06054cf3d28",
            "e05a697ca41744b69fb5242f431d213d",
            "9a1fd66afbfe4ba485d4e7e6e74eb67f",
            "e4899db272f64f31b83f7ecb4081d257",
            "edc79f603c394166aab9ea89631fad85",
            "abdbb5f7fc7c4604a1fdceab899a1086",
            "fb7a5b6628b94f959df16272dc9a379d",
            "e45d93655be044e09dc32ccf8489fd4c",
            "bf87a554137f401682f7becf9a20ec02",
            "760fef73891f4d88bcaf3d0f3bd1f5b1",
            "87b1cf91929d4c39b317efaf7c0e8261",
            "6013c84c8d66465e89d0aa8993288807",
            "1ff984555543419bbc6b694bb0afb8cd",
            "d6e865ce510e48c1a70c00fe9d05fee7",
            "7c988a74cad34adbb5b46c3aabf14c05",
            "2c908cbf62fa416698b995cc9217864c",
            "cd975dfdb27d4da29087a1009ba08547",
            "ef908dceb69e494489b4b588da88d6a0",
            "824acecfd4044b70be13185fd63af1e4",
            "1541b8344188471fb2cb30ef9b9f09e9",
            "44f74a6450a04bebb625e21143851159",
            "ea7c27fe013247a8a30c8f6fb7bd2216",
            "7195f56b0e1f49e0b17c3365b2c93eca",
            "dbebed336de54cf2ad5e49bc97847d74",
            "732024a2cdbd433e9228f1af0745013c",
            "acffc2fbf7474a42ad3cb0b97ade5590",
            "d1de0df639e1437bbca2cc075659167d",
            "90cf40bf0c554f6b922ef89787c357ea",
            "cc0f90e765db44ba86ad72e051d6527f",
            "2e81834aaaa7445cb5ab364617dcb87c",
            "c7822bfff06c46619388393ad94c36b7",
            "d6588d7ec476472e84e2647f74844301",
            "3d47439b5b7a4dc5a5297278f9b8f8d2",
            "179c6ba932ac4cac9ed1205e5d05c561",
            "520940a39e3a460883aa6159bc74d864",
            "bbe15f0866e243ba8f2d171576cc4438",
            "86568faee76140f585d6e4ac52f882c9",
            "98a48e3dc7644c209f1d289235770e4e",
            "29316cfa54d740209b961ead5ac509e4",
            "0943c51327a54b09a436f2abc8f81e8c",
            "9238a0818f644bc188bf6369c6fdab2e",
            "68c2a5c0f6594646b87a15abe68e2865",
            "97635f9ce78e47a7966b60cd4fe544e6",
            "658fd4f74d0b42989f8b485434ecf791",
            "31774e04271f498484c81af60099f055",
            "6b0319c01fcf47dbaff43b161051248d",
            "81eb3e7722f8492fb118bd0a24c9922f",
            "89e4f83dcaff44188c46a940590cba2d",
            "39866fda59d94fdd9b2b01318b5ef2bf",
            "df05d94bd5be4cf8920f05e9e2904da7",
            "70fa06181703465cb1054c3f3c242746",
            "ea86b4766c254f928d6dc2f75d670b91",
            "9e268a00ca914c97a8233f9aed18e525",
            "4bcbbd80a2054d06afc1f9654a4a494c",
            "63d9b18e02d24e34b4aaae224968fe9f",
            "719d3c58aaa24b0f8aa029ec27e075e4",
            "d1e4f4059b454f5a8310a26dc110602c",
            "160a454c3b5446bfa3bbbd2ee6e7040c",
            "8f3e3c830f864430ab04500585c7f178",
            "c09e50b8636f44959752b1693e5e113f",
            "b0a1e811990e430ab4f1347bec4e4f95",
            "bdad6402cc6e4b498b5281febf0d24bd",
            "8136c0b7ab9242e9a12d2ff323e57e14",
            "b8119776458f464b88a8fd5d45212e0f",
            "e0d55649971e4461a05fec7f9fc0c916",
            "afa7c491e86a465b80397c5ab4996793",
            "aa17d59ccf2f4f29b87f8e22de2a6934",
            "ce3e0c0ed43749e79c49a27d8ad8e8cb",
            "ce43c7fb93914129999c24a50789311d",
            "a5ecf6552de4420ebe9c432c0bff1956",
            "1ca1f8b4f3a741cebb3a3293fe9eb500",
            "1e78480ecb314f2f95db42abd3d3a808"
          ]
        },
        "outputId": "47da3102-be0a-4f9c-ec9e-27fc0a3cd831"
      },
      "outputs": [
        {
          "output_type": "stream",
          "name": "stderr",
          "text": [
            "/usr/local/lib/python3.10/dist-packages/transformers/utils/generic.py:441: FutureWarning: `torch.utils._pytree._register_pytree_node` is deprecated. Please use `torch.utils._pytree.register_pytree_node` instead.\n",
            "  _torch_pytree._register_pytree_node(\n",
            "/usr/local/lib/python3.10/dist-packages/transformers/utils/generic.py:309: FutureWarning: `torch.utils._pytree._register_pytree_node` is deprecated. Please use `torch.utils._pytree.register_pytree_node` instead.\n",
            "  _torch_pytree._register_pytree_node(\n",
            "/usr/local/lib/python3.10/dist-packages/transformers/utils/generic.py:309: FutureWarning: `torch.utils._pytree._register_pytree_node` is deprecated. Please use `torch.utils._pytree.register_pytree_node` instead.\n",
            "  _torch_pytree._register_pytree_node(\n",
            "/usr/local/lib/python3.10/dist-packages/huggingface_hub/file_download.py:795: FutureWarning: `resume_download` is deprecated and will be removed in version 1.0.0. Downloads always resume when possible. If you want to force a new download, use `force_download=True`.\n",
            "  warnings.warn(\n",
            "/usr/local/lib/python3.10/dist-packages/huggingface_hub/utils/_auth.py:94: UserWarning: \n",
            "The secret `HF_TOKEN` does not exist in your Colab secrets.\n",
            "To authenticate with the Hugging Face Hub, create a token in your settings tab (https://huggingface.co/settings/tokens), set it as secret in your Google Colab and restart your session.\n",
            "You will be able to reuse this secret in all of your notebooks.\n",
            "Please note that authentication is recommended but still optional to access public models or datasets.\n",
            "  warnings.warn(\n"
          ]
        },
        {
          "output_type": "display_data",
          "data": {
            "text/plain": [
              "tokenizer_config.json:   0%|          | 0.00/399 [00:00<?, ?B/s]"
            ],
            "application/vnd.jupyter.widget-view+json": {
              "version_major": 2,
              "version_minor": 0,
              "model_id": "cdff632a321f48579120270c0d61f346"
            }
          },
          "metadata": {}
        },
        {
          "output_type": "display_data",
          "data": {
            "text/plain": [
              "config.json:   0%|          | 0.00/625 [00:00<?, ?B/s]"
            ],
            "application/vnd.jupyter.widget-view+json": {
              "version_major": 2,
              "version_minor": 0,
              "model_id": "fb7a5b6628b94f959df16272dc9a379d"
            }
          },
          "metadata": {}
        },
        {
          "output_type": "display_data",
          "data": {
            "text/plain": [
              "vocab.txt:   0%|          | 0.00/232k [00:00<?, ?B/s]"
            ],
            "application/vnd.jupyter.widget-view+json": {
              "version_major": 2,
              "version_minor": 0,
              "model_id": "ef908dceb69e494489b4b588da88d6a0"
            }
          },
          "metadata": {}
        },
        {
          "output_type": "display_data",
          "data": {
            "text/plain": [
              "tokenizer.json:   0%|          | 0.00/466k [00:00<?, ?B/s]"
            ],
            "application/vnd.jupyter.widget-view+json": {
              "version_major": 2,
              "version_minor": 0,
              "model_id": "cc0f90e765db44ba86ad72e051d6527f"
            }
          },
          "metadata": {}
        },
        {
          "output_type": "display_data",
          "data": {
            "text/plain": [
              "added_tokens.json:   0%|          | 0.00/2.00 [00:00<?, ?B/s]"
            ],
            "application/vnd.jupyter.widget-view+json": {
              "version_major": 2,
              "version_minor": 0,
              "model_id": "0943c51327a54b09a436f2abc8f81e8c"
            }
          },
          "metadata": {}
        },
        {
          "output_type": "display_data",
          "data": {
            "text/plain": [
              "special_tokens_map.json:   0%|          | 0.00/112 [00:00<?, ?B/s]"
            ],
            "application/vnd.jupyter.widget-view+json": {
              "version_major": 2,
              "version_minor": 0,
              "model_id": "70fa06181703465cb1054c3f3c242746"
            }
          },
          "metadata": {}
        },
        {
          "output_type": "display_data",
          "data": {
            "text/plain": [
              "model.safetensors:   0%|          | 0.00/438M [00:00<?, ?B/s]"
            ],
            "application/vnd.jupyter.widget-view+json": {
              "version_major": 2,
              "version_minor": 0,
              "model_id": "bdad6402cc6e4b498b5281febf0d24bd"
            }
          },
          "metadata": {}
        }
      ],
      "source": [
        "from transformers import AutoTokenizer, AutoModel, pipeline\n",
        "\n",
        "model_name = 'sentence-transformers/bert-base-nli-mean-tokens'\n",
        "tokenizer = AutoTokenizer.from_pretrained(model_name)\n",
        "bert = AutoModel.from_pretrained(model_name)"
      ]
    },
    {
      "cell_type": "code",
      "execution_count": 6,
      "metadata": {
        "id": "kAQHqgW_cLU1",
        "colab": {
          "base_uri": "https://localhost:8080/"
        },
        "outputId": "8373aa64-7db9-4939-f9cb-0c7335846022"
      },
      "outputs": [
        {
          "output_type": "stream",
          "name": "stderr",
          "text": [
            "Asking to truncate to max_length but no maximum length is provided and the model has no predefined maximum length. Default to no truncation.\n"
          ]
        }
      ],
      "source": [
        "# just a reminder: here's how it works\n",
        "dummy_lines = [\n",
        "    \"How old are you?\",                                                 # 0\n",
        "    \"In what mythology do two canines watch over the Chinvat Bridge?\",  # 1\n",
        "    \"I'm sorry, okay, I'm not perfect, but I'm trying.\",                # 2\n",
        "    \"What is your age?\",                                                # 3\n",
        "    \"Beware, for I am fearless, and therefore powerful.\",               # 4\n",
        "]\n",
        "\n",
        "with torch.no_grad():\n",
        "    batch_tensors = tokenizer(dummy_lines, padding=True, truncation=True, return_tensors=\"pt\")\n",
        "    out = bert(**batch_tensors)\n",
        "    token_embs = out.last_hidden_state\n",
        "    cls_embs = out.pooler_output\n",
        "    del out\n",
        "\n",
        "\n",
        "mask = batch_tensors['attention_mask'][..., None].to(torch.float32)\n",
        "naive_phrase_embs = (token_embs * mask).sum(1) / mask.sum(1)"
      ]
    },
    {
      "cell_type": "code",
      "execution_count": 7,
      "metadata": {
        "id": "eYLyOgvzcLU3",
        "outputId": "719d8402-2a14-41a4-ea0b-92977b44df63",
        "colab": {
          "base_uri": "https://localhost:8080/",
          "height": 470
        }
      },
      "outputs": [
        {
          "output_type": "execute_result",
          "data": {
            "text/plain": [
              "<matplotlib.image.AxesImage at 0x7f5199f2b7c0>"
            ]
          },
          "metadata": {},
          "execution_count": 7
        },
        {
          "output_type": "display_data",
          "data": {
            "text/plain": [
              "<Figure size 640x480 with 1 Axes>"
            ],
            "image/png": "[encoded data removed]"
          },
          "metadata": {}
        }
      ],
      "source": [
        "plt.title('phrase similarity')\n",
        "plt.imshow((naive_phrase_embs @ naive_phrase_embs.t()).cpu().data.numpy(), interpolation='none', cmap='gray')"
      ]
    },
    {
      "cell_type": "markdown",
      "metadata": {
        "id": "apBCmWWgcLU4"
      },
      "source": [
        "As you can see, __the strongest similarity is between lines 0 and 3__. Indeed they correspond to \"How old are you?\" and \"What is your age?\""
      ]
    },
    {
      "cell_type": "markdown",
      "metadata": {
        "id": "u3qa0HGrcLU4"
      },
      "source": [
        "### Retriever Model (2 points)\n",
        "\n",
        "Our goal for today is to build a model that measures similarity between question and answer. In particular, it maps both question and answer into fixed-size vectors such that:\n",
        "\n",
        "Our model is a pair of $V_q(q)$ and $V_a(a)$ - networks that turn phrases into vectors.\n",
        "\n",
        "__Objective:__ Question vector $V_q(q)$ should be __closer__ to correct answer vectors $V_a(a^+)$ than to incorrect ones $V_a(a^-)$ .\n",
        "\n",
        "Both vectorizers can be anything you wish. For starters, let's use a couple of dense layers on top of the pre-trained encoder.\n",
        "\n",
        "\n"
      ]
    },
    {
      "cell_type": "code",
      "execution_count": 8,
      "metadata": {
        "id": "2LnBd1IdcLU4"
      },
      "outputs": [],
      "source": [
        "class Vectorizer(nn.Module):\n",
        "    def __init__(self, hid_size=256, bert=bert):\n",
        "        \"\"\" A small feedforward network on top of pre-trained encoder. 2-3 layers should be enough \"\"\"\n",
        "        super().__init__()\n",
        "        self.bert = bert\n",
        "        self.hid_size = hid_size\n",
        "\n",
        "        self.hid_size = hid_size\n",
        "\n",
        "        for param in self.bert.parameters():\n",
        "            param.requires_grad = False\n",
        "\n",
        "        self.ff = nn.Sequential(\n",
        "            nn.Dropout(p=0.1),\n",
        "            nn.Linear(768, 768),\n",
        "            nn.ReLU(),\n",
        "            nn.Dropout(p=0.1),\n",
        "            nn.Linear(768, hid_size)\n",
        "        )\n",
        "\n",
        "\n",
        "    def forward(self, input_phrases):\n",
        "        \"\"\"\n",
        "        Apply vectorizer. Use dropout and any other hacks at will.\n",
        "        :param input_phrases: a list of strings, [batch_size]\n",
        "        :returns: predicted phrase vectors, [batch_size, output_size]\n",
        "\n",
        "        Note: you may want to use dropouts.\n",
        "        if self.training:\n",
        "          <something>\n",
        "\n",
        "        Note 2: you may also want to use with torch.no_grad to avoid training BERT for your first attempts\n",
        "\n",
        "        \"\"\"\n",
        "\n",
        "        batch_tensors = tokenizer(\n",
        "            input_phrases,\n",
        "            return_tensors=\"pt\",\n",
        "            padding=True,\n",
        "            truncation=True\n",
        "        ).to(next(self.ff.parameters()).device)\n",
        "\n",
        "        with torch.no_grad():\n",
        "            out = self.bert(**batch_tensors)\n",
        "            token_embs = out.last_hidden_state\n",
        "\n",
        "        mask = batch_tensors['attention_mask'].unsqueeze(-1).float()\n",
        "        sum_embs = (token_embs * mask).sum(dim=1)\n",
        "        n_tokens = mask.sum(dim=1).clamp_min(1e-9)\n",
        "        pooled_embs = sum_embs / n_tokens\n",
        "\n",
        "        phrase_vecs = self.ff(pooled_embs)\n",
        "\n",
        "        return phrase_vecs"
      ]
    },
    {
      "cell_type": "code",
      "execution_count": 9,
      "metadata": {
        "id": "bmlIxPRQcLU5"
      },
      "outputs": [],
      "source": [
        "question_vectorizer = Vectorizer()\n",
        "answer_vectorizer = Vectorizer()"
      ]
    },
    {
      "cell_type": "code",
      "execution_count": 10,
      "metadata": {
        "id": "krX1gnD6cLU5",
        "colab": {
          "base_uri": "https://localhost:8080/"
        },
        "outputId": "7398a1eb-7fc2-4cd0-bc7c-7a56ac5e6d37"
      },
      "outputs": [
        {
          "output_type": "stream",
          "name": "stdout",
          "text": [
            "Well done!\n"
          ]
        }
      ],
      "source": [
        "question_vectorizer.train(False)\n",
        "out1 = question_vectorizer(dummy_lines)\n",
        "out2 = question_vectorizer(dummy_lines)\n",
        "assert tuple(out1.shape) == (5, question_vectorizer.hid_size)\n",
        "assert torch.allclose(out1, out2, atol=1e-5, rtol=0), \"Make sure your model disables dropout if training == False\"\n",
        "print(\"Well done!\")"
      ]
    },
    {
      "cell_type": "markdown",
      "metadata": {
        "id": "7lUHY7LdcLU5"
      },
      "source": [
        "### Retriever training: minibatches\n",
        "\n",
        "Our model learns on triples $(q, a^+, a^-)$:\n",
        "* q - <b>q</b>uestion\n",
        "* (a+) - correct <b>a</b>nswer\n",
        "* (a-) - wrong <b>a</b>nswer\n",
        "\n",
        "Below you will find a generator that samples such triples from data."
      ]
    },
    {
      "cell_type": "code",
      "execution_count": 11,
      "metadata": {
        "id": "GO64sZ3AcLU6"
      },
      "outputs": [],
      "source": [
        "import random\n",
        "\n",
        "def iterate_minibatches(data, batch_size, shuffle=True, cycle=False):\n",
        "    \"\"\"\n",
        "    Generates minibatches of triples: {questions, correct answers, wrong answers}\n",
        "    If there are several wrong (or correct) answers, picks one at random.\n",
        "    \"\"\"\n",
        "    indices = np.arange(len(data))\n",
        "    while True:\n",
        "        if shuffle:\n",
        "            indices = np.random.permutation(indices)\n",
        "        for batch_start in range(0, len(indices), batch_size):\n",
        "            batch_indices = indices[batch_start: batch_start + batch_size]\n",
        "            batch = data.iloc[batch_indices]\n",
        "            questions = batch['question'].values\n",
        "            correct_answers = np.array([\n",
        "                row['options'][random.choice(row['correct_indices'])]\n",
        "                for i, row in batch.iterrows()\n",
        "            ])\n",
        "            wrong_answers = np.array([\n",
        "                row['options'][random.choice(row['wrong_indices'])]\n",
        "                for i, row in batch.iterrows()\n",
        "            ])\n",
        "\n",
        "            yield {\n",
        "                'questions' : questions,\n",
        "                'correct_answers': correct_answers,\n",
        "                'wrong_answers': wrong_answers,\n",
        "            }\n",
        "        if not cycle:\n",
        "            break"
      ]
    },
    {
      "cell_type": "code",
      "execution_count": 12,
      "metadata": {
        "id": "wcnGu02BcLU6",
        "colab": {
          "base_uri": "https://localhost:8080/"
        },
        "outputId": "213f4105-c790-4e86-9d85-290f432f2ab0"
      },
      "outputs": [
        {
          "output_type": "stream",
          "name": "stdout",
          "text": [
            "{'questions': array(['What year did Mexico gain independence from Spain?',\n",
            "       'As opposed to Dutch, what language was influenced by the High German sound shift?',\n",
            "       'What is the primary public television station in New York?'],\n",
            "      dtype=object), 'correct_answers': array(['Eventually the town came to be called \"Tucson\" and became a part of Sonora after Mexico gained independence from Spain in 1821.',\n",
            "       \"Unlike German, Dutch (apart from Limburgish) has not been influenced at all by the 'south to north' movement of the High German sound shift, and had some changes of its own.\",\n",
            "       \"WNET is the city's major public television station and a primary source of national Public Broadcasting Service (PBS) television programming.\"],\n",
            "      dtype='<U173'), 'wrong_answers': array(['During the Spanish period of the presidio, attacks such as the Second Battle of Tucson were repeatedly mounted by Apaches.',\n",
            "       'For a comparison between the West Germanic languages, see the sections Morphology, Grammar and Vocabulary.',\n",
            "       'The oldest public-access television channel in the United States is the Manhattan Neighborhood Network, founded in 1971.'],\n",
            "      dtype='<U122')}\n"
          ]
        }
      ],
      "source": [
        "dummy_batch = next(iterate_minibatches(train.sample(3), 3))\n",
        "print(dummy_batch)"
      ]
    },
    {
      "cell_type": "markdown",
      "metadata": {
        "id": "F09wfUH9cLU6"
      },
      "source": [
        "### Retriever training: loss function (2 points)\n",
        "We want our vectorizers to put correct answers closer to question vectors and incorrect answers farther away from them. One way to express this is to use is Pairwise Hinge Loss _(aka Triplet Loss)_.\n",
        "\n",
        "$$ L = \\frac 1N \\underset {q, a^+, a^-} \\sum max(0, \\space \\delta - sim[V_q(q), V_a(a^+)] + sim[V_q(q), V_a(a^-)] )$$\n",
        "\n",
        ", where\n",
        "* sim[a, b] is some similarity function: dot product, cosine or negative distance\n",
        "* δ - loss hyperparameter, e.g. δ=1.0. If sim[a, b] is linear in b, all δ > 0 are equivalent.\n",
        "\n",
        "\n",
        "This reads as __Correct answers must be closer than the wrong ones by at least δ.__\n",
        "\n",
        "![img](https://raw.githubusercontent.com/yandexdataschool/nlp_course/master/resources/margin.png)\n",
        "<center>_image: question vector is green, correct answers are blue, incorrect answers are red_</center>\n",
        "\n",
        "\n",
        "Note: in effect, we train a Deep Semantic Similarity Model [DSSM](https://www.microsoft.com/en-us/research/project/dssm/)."
      ]
    },
    {
      "cell_type": "code",
      "execution_count": 13,
      "metadata": {
        "id": "nlV8YSewcLU7"
      },
      "outputs": [],
      "source": [
        "def similarity(a, b):\n",
        "    \"\"\" Dot product as a similarity function \"\"\"\n",
        "    return (a * b).sum(dim=-1)\n",
        "\n",
        "def compute_loss(question_vectors, correct_answer_vectors, wrong_answer_vectors, delta=1.0):\n",
        "    \"\"\"\n",
        "    Compute the triplet loss as per formula above.\n",
        "    Use similarity function above for  sim[a, b]\n",
        "    :param question_vectors: float32[batch_size, vector_size]\n",
        "    :param correct_answer_vectors: float32[batch_size, vector_size]\n",
        "    :param wrong_answer_vectors: float32[batch_size, vector_size]\n",
        "    :returns: loss for every row in batch, float32[batch_size]\n",
        "    Hint: you can compute max(0, *) using torch.relu :)\n",
        "    \"\"\"\n",
        "    sim_pos = similarity(question_vectors, correct_answer_vectors)\n",
        "    sim_neg = similarity(question_vectors, wrong_answer_vectors)\n",
        "\n",
        "\n",
        "    margin = delta - sim_pos + sim_neg\n",
        "    losses = F.relu(margin)\n",
        "\n",
        "    return losses"
      ]
    },
    {
      "cell_type": "code",
      "execution_count": 14,
      "metadata": {
        "id": "pzivm0jqcLU7"
      },
      "outputs": [],
      "source": [
        "dummy_v1 = torch.tensor([[0.1, 0.2, -1], [-1.2, 0.6, 1.0]], dtype=torch.float32)\n",
        "dummy_v2 = torch.tensor([[0.9, 2.1, -6.6], [0.1, 0.8, -2.2]], dtype=torch.float32)\n",
        "dummy_v3 = torch.tensor([[-4.1, 0.1, 1.2], [0.3, -1, -2]], dtype=torch.float32)\n",
        "\n",
        "assert np.allclose(similarity(dummy_v1, dummy_v2).data.numpy(), [7.11, -1.84])\n",
        "assert np.allclose(compute_loss(dummy_v1, dummy_v2, dummy_v3, delta=5.0).data.numpy(), [0.0, 3.88])"
      ]
    },
    {
      "cell_type": "markdown",
      "metadata": {
        "id": "oc30eCwKcLU7"
      },
      "source": [
        "Once loss is working, let's train our model by our usual means."
      ]
    },
    {
      "cell_type": "code",
      "execution_count": 19,
      "metadata": {
        "id": "deh6__i0ueBj"
      },
      "outputs": [],
      "source": [
        "# we also compute recall: the rate at which a^+ is closer to q than a^-\n",
        "def get_recall(questions, correct_answers, wrong_answers):\n",
        "\n",
        "    v_questions = question_vectorizer(list(questions))\n",
        "    v_correct   = answer_vectorizer(list(correct_answers))\n",
        "    v_incorrect = answer_vectorizer(list(wrong_answers))\n",
        "\n",
        "    sim_pos = similarity(v_questions, v_correct)\n",
        "    sim_neg = similarity(v_questions, v_incorrect)\n",
        "\n",
        "    correct_is_closer = sim_pos > sim_neg\n",
        "\n",
        "    recall = torch.mean(correct_is_closer.to(torch.float32)).item()\n",
        "    return recall\n"
      ]
    },
    {
      "cell_type": "code",
      "execution_count": 21,
      "metadata": {
        "id": "MOdhf_z4cLU8",
        "colab": {
          "base_uri": "https://localhost:8080/"
        },
        "outputId": "4f68eb32-e3be-4496-facf-d4c1c701827c"
      },
      "outputs": [
        {
          "output_type": "execute_result",
          "data": {
            "text/plain": [
              "0.6666666865348816"
            ]
          },
          "metadata": {},
          "execution_count": 21
        }
      ],
      "source": [
        "# make sure it works\n",
        "get_recall(**dummy_batch)"
      ]
    },
    {
      "cell_type": "markdown",
      "metadata": {
        "id": "KArsnvUpcLU9"
      },
      "source": [
        "### Training loop (1 point)\n",
        "\n",
        "Just as we always do, we can now train DSSM on minibatches and periodically measure recall on validation data.\n",
        "\n",
        "\n",
        "__Note 1:__ triplet loss training may be very sensitive to the choice of batch size. Small batch size may decrease model quality because there are less negative to consider.\n",
        "\n",
        "__Note 2:__ here we use the same dataset as __\"test set\"__ and __\"validation (dev) set\"__.\n",
        "\n",
        "In any serious scientific experiment, those must be two separate sets. Validation is for hyperparameter tuning and test is for final eval only.\n"
      ]
    },
    {
      "cell_type": "code",
      "source": [
        "import torch.optim as optim"
      ],
      "metadata": {
        "id": "1z1GrSUsvnwA"
      },
      "execution_count": 23,
      "outputs": []
    },
    {
      "cell_type": "code",
      "execution_count": 24,
      "metadata": {
        "id": "H0mrMLwgvoFi",
        "outputId": "0b2f2a1c-3f19-403e-c4fa-b182ae11d80d",
        "colab": {
          "base_uri": "https://localhost:8080/"
        }
      },
      "outputs": [
        {
          "output_type": "stream",
          "name": "stderr",
          "text": [
            "/usr/local/lib/python3.10/dist-packages/torch/_compile.py:32: UserWarning: optimizer contains a parameter group with duplicate parameters; in future, this will cause an error; see github.com/pytorch/pytorch/issues/40967 for more information\n",
            "  return disable_fn(*args, **kwargs)\n"
          ]
        }
      ],
      "source": [
        "import pandas as pd\n",
        "from IPython.display import clear_output\n",
        "from tqdm import tqdm\n",
        "\n",
        "device = \"cuda\" if torch.cuda.is_available() else \"cpu\"\n",
        "\n",
        "question_vectorizer = Vectorizer(hid_size=256).to(device)\n",
        "answer_vectorizer   = Vectorizer(hid_size=256).to(device)\n",
        "\n",
        "params = list(question_vectorizer.parameters()) + list(answer_vectorizer.parameters())\n",
        "\n",
        "optimizer = optim.Adam(params, lr=1e-3)\n",
        "\n",
        "batch_size = 256\n",
        "train_batches = iterate_minibatches(train, batch_size=batch_size, cycle=True)\n",
        "dev_batches   = iterate_minibatches(test,  batch_size=batch_size, cycle=True)\n",
        "\n",
        "ewma = lambda x, span: pd.DataFrame({'x': x})['x'].ewm(span=span).mean().values\n",
        "dev_batches = iterate_minibatches(test, batch_size=256, cycle=True)\n",
        "loss_history = []\n",
        "dev_recall_history = []"
      ]
    },
    {
      "cell_type": "code",
      "execution_count": null,
      "metadata": {
        "id": "RuDUsgjrcLU9",
        "colab": {
          "base_uri": "https://localhost:8080/",
          "height": 545
        },
        "outputId": "c6a4d018-1000-4ae4-f029-f7e7c3a6de0e"
      },
      "outputs": [
        {
          "output_type": "display_data",
          "data": {
            "text/plain": [
              "<Figure size 1200x600 with 2 Axes>"
            ],
            "image/png": "[encoded data removed]"
          },
          "metadata": {}
        }
      ],
      "source": [
        "# infinite training loop. Stop it manually or implement early stopping\n",
        "\n",
        "for batch in iterate_minibatches(train, batch_size=256, cycle=True):\n",
        "\n",
        "    questions = list(batch['questions'])\n",
        "    correct   = list(batch['correct_answers'])\n",
        "    wrong     = list(batch['wrong_answers'])\n",
        "\n",
        "    vq  = question_vectorizer(questions)\n",
        "    vaP = answer_vectorizer(correct)\n",
        "    vaN = answer_vectorizer(wrong)\n",
        "\n",
        "    losses = compute_loss(vq, vaP, vaN, delta=1.0)\n",
        "    loss_t = losses.mean()\n",
        "\n",
        "    optimizer.zero_grad()\n",
        "    loss_t.backward()\n",
        "    optimizer.step()\n",
        "\n",
        "    loss_history.append(float(loss_t))\n",
        "\n",
        "    if len(loss_history) % 50 == 0:\n",
        "        dev_batch = next(dev_batches)\n",
        "\n",
        "        recall_t = get_recall(\n",
        "            dev_batch['questions'],\n",
        "            dev_batch['correct_answers'],\n",
        "            dev_batch['wrong_answers']\n",
        "        )\n",
        "\n",
        "        dev_recall_history.append(recall_t)\n",
        "\n",
        "    if len(loss_history) % 50 == 0:\n",
        "        clear_output(True)\n",
        "        plt.figure(figsize=[12, 6])\n",
        "        plt.subplot(1, 2, 1), plt.title('train loss (hinge)'), plt.grid()\n",
        "        plt.scatter(np.arange(len(loss_history)), loss_history, alpha=0.1)\n",
        "        plt.plot(ewma(loss_history, span=100))\n",
        "        plt.subplot(1, 2, 2), plt.title('dev recall (1 correct vs 1 wrong)'), plt.grid()\n",
        "        dev_time = np.arange(1, len(dev_recall_history) + 1) * 100\n",
        "        plt.scatter(dev_time, dev_recall_history, alpha=0.1)\n",
        "        plt.plot(dev_time, ewma(dev_recall_history, span=10))\n",
        "        plt.show()\n"
      ]
    },
    {
      "cell_type": "code",
      "execution_count": null,
      "metadata": {
        "id": "kYLKsDNKcLU9"
      },
      "outputs": [],
      "source": [
        "print(\"Mean recall:\", np.mean(dev_recall_history[-10:]))\n",
        "assert np.mean(dev_recall_history[-10:]) > 0.85, \"Please train for at least 85% recall on test set. \"\\\n",
        "                                                  \"You may need to change vectorizer model for that.\"\n",
        "print(\"Well done!\")"
      ]
    },
    {
      "cell_type": "markdown",
      "metadata": {
        "collapsed": true,
        "id": "YMsVSsaScLU-"
      },
      "source": [
        "# Retriever evaluation (2 point)\n",
        "\n",
        "Let's see how well does our model perform on actual question answering.\n",
        "\n",
        "Given a question and a set of possible answers, pick answer with highest similarity to estimate accuracy."
      ]
    },
    {
      "cell_type": "code",
      "execution_count": null,
      "metadata": {
        "id": "drbFaxidcLU-"
      },
      "outputs": [],
      "source": [
        "# optional: any additional preparations, e.g. build index\n",
        "# <...>\n",
        "\n",
        "def select_best_answer(question, possible_answers):\n",
        "    \"\"\"\n",
        "    Predicts which answer best fits the question\n",
        "    :param question: a single string containing a question\n",
        "    :param possible_answers: a list of strings containing possible answers\n",
        "    :returns: integer - the index of best answer in possible_answer\n",
        "    \"\"\"\n",
        "    question_vectorizer.eval()\n",
        "    answer_vectorizer.eval()\n",
        "\n",
        "    with torch.no_grad():\n",
        "        q_vector = question_vectorizer([question])\n",
        "\n",
        "        a_vectors = answer_vectorizer(possible_answers)\n",
        "\n",
        "        q_repeated = q_vector.repeat(len(possible_answers), 1)\n",
        "        similarities = similarity(q_repeated, a_vectors)\n",
        "\n",
        "        best_index = torch.argmax(similarities).item()\n",
        "\n",
        "    return best_index\n"
      ]
    },
    {
      "cell_type": "code",
      "execution_count": null,
      "metadata": {
        "id": "9aLwahCxcLU-"
      },
      "outputs": [],
      "source": [
        "predicted_answers = [\n",
        "    select_best_answer(question, possible_answers)\n",
        "    for i, (question, possible_answers) in tqdm(test[['question', 'options']].iterrows(), total=len(test))\n",
        "]\n",
        "\n",
        "accuracy = np.mean([\n",
        "    answer in correct_ix\n",
        "    for answer, correct_ix in zip(predicted_answers, test['correct_indices'].values)\n",
        "])\n",
        "print(\"Accuracy: %0.5f\" % accuracy)\n",
        "assert accuracy > 0.65, \"we need more accuracy!\"\n",
        "print(\"Great job!\")"
      ]
    },
    {
      "cell_type": "code",
      "execution_count": null,
      "metadata": {
        "id": "w3ODWG4kcLU_"
      },
      "outputs": [],
      "source": [
        "def draw_results(question, possible_answers, predicted_index, correct_indices):\n",
        "    print(\"Q:\", question, end='\\n\\n')\n",
        "    for i, answer in enumerate(possible_answers):\n",
        "        print(\"#%i: %s %s\" % (i, '[*]' if i == predicted_index else '[ ]', answer))\n",
        "\n",
        "    print(\"\\nVerdict:\", \"CORRECT\" if predicted_index in correct_indices else \"INCORRECT\",\n",
        "          \"(ref: %s)\" % correct_indices, end='\\n' * 3)"
      ]
    },
    {
      "cell_type": "code",
      "execution_count": null,
      "metadata": {
        "scrolled": false,
        "id": "sLbpRSSmcLU_"
      },
      "outputs": [],
      "source": [
        "for i in [1, 100, 1000, 2000, 3000, 4000, 5000]:\n",
        "    draw_results(test.iloc[i].question, test.iloc[i].options,\n",
        "                 predicted_answers[i], test.iloc[i].correct_indices)"
      ]
    },
    {
      "cell_type": "code",
      "execution_count": null,
      "metadata": {
        "id": "Ki4qVJo_cLU_"
      },
      "outputs": [],
      "source": [
        "question = \"What is my name?\" # your question here!\n",
        "possible_answers = [\n",
        "    \"Alice\",\n",
        "    \"Bob\",\n",
        "    \"Charlie\",\n",
        "    \"Diana\"\n",
        "]\n",
        "\n",
        "predicted answer = select_best_answer(question, possible_answers)\n",
        "\n",
        "draw_results(question, possible_answers,\n",
        "             predicted_answer, [0])"
      ]
    },
    {
      "cell_type": "markdown",
      "metadata": {
        "id": "Yw0l5dyAcLU_"
      },
      "source": [
        "### Part 2: to prompt a generator (3 points)\n",
        "\n",
        "You have built a model that can select the most relevant sentence from a text document. However, this is still not the same as question answering - at least not how humans understand it. The full question answering system shoud answer your question in a dialogue - and perhap even let you ask follow-up questions."
      ]
    },
    {
      "cell_type": "code",
      "execution_count": null,
      "metadata": {
        "id": "IFCrKiUgcLVA"
      },
      "outputs": [],
      "source": [
        "# note: you may want to save pre-trained retriever and restart to free memory\n",
        "import torch\n",
        "import transformers\n",
        "\n",
        "model_name = 'TheBloke/Mistral-7B-Instruct-v0.2-GPTQ'  # feel free to choose any other model\n",
        "device = torch.device('cuda:0' if torch.cuda.is_available() else 'cpu')\n",
        "tokenizer = transformers.LlamaTokenizer.from_pretrained(model_name, device_map=device)\n",
        "tokenizer.pad_token_id = tokenizer.eos_token_id\n",
        "model = transformers.AutoModelForCausalLM.from_pretrained(\n",
        "    model_name,\n",
        "    device_map='auto',\n",
        "    torch_dtype=torch.float16,\n",
        "    low_cpu_mem_usage=True,\n",
        ")"
      ]
    },
    {
      "cell_type": "code",
      "execution_count": null,
      "metadata": {
        "id": "3b_lFbiPcLVA"
      },
      "outputs": [],
      "source": [
        "pid, question, options, correct_indices, wrong_indices = train.iloc[10]\n",
        "print('QUESTION', question, '\\n')\n",
        "print('TEXT SENTENCES')\n",
        "for i, cand in enumerate(options):\n",
        "    print(['[ ]', '[v]'][i in correct_indices], cand)"
      ]
    },
    {
      "cell_type": "code",
      "execution_count": null,
      "metadata": {
        "id": "bhQ9r0RycLVA"
      },
      "outputs": [],
      "source": [
        "question_and_info = \"\"\"\n",
        "Question: What was the first album Beyoncé released as a solo artist?\n",
        "\n",
        "Information: Their hiatus saw the release of Beyoncé's debut album, Dangerously in Love (2003), which established her as a solo artist worldwide, earned five Grammy Awards and featured the Billboard Hot 100 number-one singles \"Crazy in Love\" and \"Baby Boy\".\n",
        "\"\"\"  # <-- you should un-hardcode this\n",
        "\n",
        "input_ids = tokenizer.apply_chat_template([\n",
        "    dict(role='user', content=\"\"\"You will be given a question and a piece of information that contains the answer. Please reply with a short informal answer to a question based on the information given.\"\"\".strip()),\n",
        "    dict(role='assistant', content=\"\"\"Okay, what question would you like me to answer?\"\"\"),\n",
        "    dict(role='user', content=question_and_info.strip())], return_tensors='pt').to(device)\n",
        "# details: https://huggingface.co/docs/transformers/main/en/chat_templating ; only used for chat/instruct models\n",
        "\n",
        "output_tokens = model.generate(input_ids, attention_mask=torch.ones_like(input_ids),\n",
        "                               max_new_tokens=64, do_sample=True, temperature=0.8, top_p=0.9)\n",
        "print(tokenizer.decode(output_tokens[0, input_ids.shape[1]:]))"
      ]
    },
    {
      "cell_type": "markdown",
      "metadata": {
        "id": "35yibHtVcLVB"
      },
      "source": [
        "### Optional tasks for bonus points\n",
        "\n",
        "There are many ways to improve our question answering model. Here's a bunch of things you can do to increase your understanding and get bonus points.\n",
        "\n",
        "### 1.  Hard Negatives (2+ pts)\n",
        "\n",
        "Not all wrong answers are equally wrong. As the training progresses, _most negative examples $a^-$ will be to easy._ So easy in fact, that loss function and gradients on such negatives is exactly __0.0__. To improve training efficiency, one can __mine hard negative samples__.\n",
        "\n",
        "Given a list of answers,\n",
        "* __Hard negative__ is the wrong answer with highest similarity with question,\n",
        "\n",
        "$$a^-_{hard} = \\underset {a^-} {argmax} \\space sim[V_q(q), V_a(a^-)]$$\n",
        "\n",
        "* __Semi-hard negative__ is the one with highest similarity _among wrong answers that are farther than positive one. This option is more useful if some wrong answers may actually be mislabelled correct answers.\n",
        "\n",
        "* One can also __sample__ negatives proportionally to $$P(a^-_i) \\sim e ^ {sim[V_q(q), V_a(a^-_i)]}$$\n",
        "\n",
        "\n",
        "The task is to implement at least __hard negative__ sampling and apply it for model training.\n",
        "\n",
        "\n",
        "### 2. Better prompting (2+ pts)\n",
        "\n",
        "In the previous example, we manually engineer a prompt for an LLM to solve produce an answer. However, by this point you know multiple ways to make LLM do your bidding. In this assignment, you should try at least some of them:\n",
        "- try few-shot learning with several handcrafted examples (or hand-picked model inputs)\n",
        "- compare several instruct and/or non-instruct models; for non-instruct models\n",
        "  - please not that you should not use apply_chat_template for non-instruct models\n",
        "- provide some means of quality evaluation to compare your approach against the default one\n",
        "\n",
        "At the minimum, several (10-20) side-by-side examples would do the trick. However, we'd appreciate creative means of evaluation here (crowdsourcing, asking another LM, anything exotic as long as you can explain it).\n",
        "\n",
        "### 3. Search engine (3+ pts)\n",
        "\n",
        "Our basic model only selects answers from 2-5 available sentences in paragraph. You can extend it to search over __the whole dataset__. All sentences in all other paragraphs are viable answers.\n",
        "\n",
        "The goal is to train such a model and use it to __quickly find top-10 answers from the whole set__.\n",
        "\n",
        "* You can ask such model a question of your own making - to see which answers it can find among the entire training dataset or even the entire wikipedia.\n",
        "* Searching for top-K neighbors is easier if you use specialized methods: [KD-Tree](https://scikit-learn.org/stable/modules/generated/sklearn.neighbors.KDTree.html) or [HNSW](https://github.com/nmslib/hnswlib).\n",
        "* This task is much easier to train if you use hard or semi-hard negatives. You can even find hard negatives for one question from correct answers to other questions in batch - do so in-graph for maximum efficiency. See [1.] for more details.\n"
      ]
    }
  ],
  "metadata": {
    "kernelspec": {
      "display_name": "Python 3",
      "name": "python3"
    },
    "language_info": {
      "codemirror_mode": {
        "name": "ipython",
        "version": 3
      },
      "file_extension": ".py",
      "mimetype": "text/x-python",
      "name": "python",
      "nbconvert_exporter": "python",
      "pygments_lexer": "ipython3",
      "version": "3.11.5"
    },
    "colab": {
      "provenance": [],
      "gpuType": "T4"
    },
    "accelerator": "GPU",
    "widgets": {
      "application/vnd.jupyter.widget-state+json": {
        "cdff632a321f48579120270c0d61f346": {
          "model_module": "@jupyter-widgets/controls",
          "model_name": "HBoxModel",
          "model_module_version": "1.5.0",
          "state": {
            "_dom_classes": [],
            "_model_module": "@jupyter-widgets/controls",
            "_model_module_version": "1.5.0",
            "_model_name": "HBoxModel",
            "_view_count": null,
            "_view_module": "@jupyter-widgets/controls",
            "_view_module_version": "1.5.0",
            "_view_name": "HBoxView",
            "box_style": "",
            "children": [
              "IPY_MODEL_51db7bf02621497eb285c001b727fb6a",
              "IPY_MODEL_58ec1f342ac3431eb90601b840b79fb4",
              "IPY_MODEL_457d66a2d9c14fd3b38b5c9205183238"
            ],
            "layout": "IPY_MODEL_cd30e35865014df38213aee618d38d5e"
          }
        },
        "51db7bf02621497eb285c001b727fb6a": {
          "model_module": "@jupyter-widgets/controls",
          "model_name": "HTMLModel",
          "model_module_version": "1.5.0",
          "state": {
            "_dom_classes": [],
            "_model_module": "@jupyter-widgets/controls",
            "_model_module_version": "1.5.0",
            "_model_name": "HTMLModel",
            "_view_count": null,
            "_view_module": "@jupyter-widgets/controls",
            "_view_module_version": "1.5.0",
            "_view_name": "HTMLView",
            "description": "",
            "description_tooltip": null,
            "layout": "IPY_MODEL_61ed0e8790f74724aefad06054cf3d28",
            "placeholder": "​",
            "style": "IPY_MODEL_e05a697ca41744b69fb5242f431d213d",
            "value": "tokenizer_config.json: 100%"
          }
        },
        "58ec1f342ac3431eb90601b840b79fb4": {
          "model_module": "@jupyter-widgets/controls",
          "model_name": "FloatProgressModel",
          "model_module_version": "1.5.0",
          "state": {
            "_dom_classes": [],
            "_model_module": "@jupyter-widgets/controls",
            "_model_module_version": "1.5.0",
            "_model_name": "FloatProgressModel",
            "_view_count": null,
            "_view_module": "@jupyter-widgets/controls",
            "_view_module_version": "1.5.0",
            "_view_name": "ProgressView",
            "bar_style": "success",
            "description": "",
            "description_tooltip": null,
            "layout": "IPY_MODEL_9a1fd66afbfe4ba485d4e7e6e74eb67f",
            "max": 399,
            "min": 0,
            "orientation": "horizontal",
            "style": "IPY_MODEL_e4899db272f64f31b83f7ecb4081d257",
            "value": 399
          }
        },
        "457d66a2d9c14fd3b38b5c9205183238": {
          "model_module": "@jupyter-widgets/controls",
          "model_name": "HTMLModel",
          "model_module_version": "1.5.0",
          "state": {
            "_dom_classes": [],
            "_model_module": "@jupyter-widgets/controls",
            "_model_module_version": "1.5.0",
            "_model_name": "HTMLModel",
            "_view_count": null,
            "_view_module": "@jupyter-widgets/controls",
            "_view_module_version": "1.5.0",
            "_view_name": "HTMLView",
            "description": "",
            "description_tooltip": null,
            "layout": "IPY_MODEL_edc79f603c394166aab9ea89631fad85",
            "placeholder": "​",
            "style": "IPY_MODEL_abdbb5f7fc7c4604a1fdceab899a1086",
            "value": " 399/399 [00:00&lt;00:00, 28.6kB/s]"
          }
        },
        "cd30e35865014df38213aee618d38d5e": {
          "model_module": "@jupyter-widgets/base",
          "model_name": "LayoutModel",
          "model_module_version": "1.2.0",
          "state": {
            "_model_module": "@jupyter-widgets/base",
            "_model_module_version": "1.2.0",
            "_model_name": "LayoutModel",
            "_view_count": null,
            "_view_module": "@jupyter-widgets/base",
            "_view_module_version": "1.2.0",
            "_view_name": "LayoutView",
            "align_content": null,
            "align_items": null,
            "align_self": null,
            "border": null,
            "bottom": null,
            "display": null,
            "flex": null,
            "flex_flow": null,
            "grid_area": null,
            "grid_auto_columns": null,
            "grid_auto_flow": null,
            "grid_auto_rows": null,
            "grid_column": null,
            "grid_gap": null,
            "grid_row": null,
            "grid_template_areas": null,
            "grid_template_columns": null,
            "grid_template_rows": null,
            "height": null,
            "justify_content": null,
            "justify_items": null,
            "left": null,
            "margin": null,
            "max_height": null,
            "max_width": null,
            "min_height": null,
            "min_width": null,
            "object_fit": null,
            "object_position": null,
            "order": null,
            "overflow": null,
            "overflow_x": null,
            "overflow_y": null,
            "padding": null,
            "right": null,
            "top": null,
            "visibility": null,
            "width": null
          }
        },
        "61ed0e8790f74724aefad06054cf3d28": {
          "model_module": "@jupyter-widgets/base",
          "model_name": "LayoutModel",
          "model_module_version": "1.2.0",
          "state": {
            "_model_module": "@jupyter-widgets/base",
            "_model_module_version": "1.2.0",
            "_model_name": "LayoutModel",
            "_view_count": null,
            "_view_module": "@jupyter-widgets/base",
            "_view_module_version": "1.2.0",
            "_view_name": "LayoutView",
            "align_content": null,
            "align_items": null,
            "align_self": null,
            "border": null,
            "bottom": null,
            "display": null,
            "flex": null,
            "flex_flow": null,
            "grid_area": null,
            "grid_auto_columns": null,
            "grid_auto_flow": null,
            "grid_auto_rows": null,
            "grid_column": null,
            "grid_gap": null,
            "grid_row": null,
            "grid_template_areas": null,
            "grid_template_columns": null,
            "grid_template_rows": null,
            "height": null,
            "justify_content": null,
            "justify_items": null,
            "left": null,
            "margin": null,
            "max_height": null,
            "max_width": null,
            "min_height": null,
            "min_width": null,
            "object_fit": null,
            "object_position": null,
            "order": null,
            "overflow": null,
            "overflow_x": null,
            "overflow_y": null,
            "padding": null,
            "right": null,
            "top": null,
            "visibility": null,
            "width": null
          }
        },
        "e05a697ca41744b69fb5242f431d213d": {
          "model_module": "@jupyter-widgets/controls",
          "model_name": "DescriptionStyleModel",
          "model_module_version": "1.5.0",
          "state": {
            "_model_module": "@jupyter-widgets/controls",
            "_model_module_version": "1.5.0",
            "_model_name": "DescriptionStyleModel",
            "_view_count": null,
            "_view_module": "@jupyter-widgets/base",
            "_view_module_version": "1.2.0",
            "_view_name": "StyleView",
            "description_width": ""
          }
        },
        "9a1fd66afbfe4ba485d4e7e6e74eb67f": {
          "model_module": "@jupyter-widgets/base",
          "model_name": "LayoutModel",
          "model_module_version": "1.2.0",
          "state": {
            "_model_module": "@jupyter-widgets/base",
            "_model_module_version": "1.2.0",
            "_model_name": "LayoutModel",
            "_view_count": null,
            "_view_module": "@jupyter-widgets/base",
            "_view_module_version": "1.2.0",
            "_view_name": "LayoutView",
            "align_content": null,
            "align_items": null,
            "align_self": null,
            "border": null,
            "bottom": null,
            "display": null,
            "flex": null,
            "flex_flow": null,
            "grid_area": null,
            "grid_auto_columns": null,
            "grid_auto_flow": null,
            "grid_auto_rows": null,
            "grid_column": null,
            "grid_gap": null,
            "grid_row": null,
            "grid_template_areas": null,
            "grid_template_columns": null,
            "grid_template_rows": null,
            "height": null,
            "justify_content": null,
            "justify_items": null,
            "left": null,
            "margin": null,
            "max_height": null,
            "max_width": null,
            "min_height": null,
            "min_width": null,
            "object_fit": null,
            "object_position": null,
            "order": null,
            "overflow": null,
            "overflow_x": null,
            "overflow_y": null,
            "padding": null,
            "right": null,
            "top": null,
            "visibility": null,
            "width": null
          }
        },
        "e4899db272f64f31b83f7ecb4081d257": {
          "model_module": "@jupyter-widgets/controls",
          "model_name": "ProgressStyleModel",
          "model_module_version": "1.5.0",
          "state": {
            "_model_module": "@jupyter-widgets/controls",
            "_model_module_version": "1.5.0",
            "_model_name": "ProgressStyleModel",
            "_view_count": null,
            "_view_module": "@jupyter-widgets/base",
            "_view_module_version": "1.2.0",
            "_view_name": "StyleView",
            "bar_color": null,
            "description_width": ""
          }
        },
        "edc79f603c394166aab9ea89631fad85": {
          "model_module": "@jupyter-widgets/base",
          "model_name": "LayoutModel",
          "model_module_version": "1.2.0",
          "state": {
            "_model_module": "@jupyter-widgets/base",
            "_model_module_version": "1.2.0",
            "_model_name": "LayoutModel",
            "_view_count": null,
            "_view_module": "@jupyter-widgets/base",
            "_view_module_version": "1.2.0",
            "_view_name": "LayoutView",
            "align_content": null,
            "align_items": null,
            "align_self": null,
            "border": null,
            "bottom": null,
            "display": null,
            "flex": null,
            "flex_flow": null,
            "grid_area": null,
            "grid_auto_columns": null,
            "grid_auto_flow": null,
            "grid_auto_rows": null,
            "grid_column": null,
            "grid_gap": null,
            "grid_row": null,
            "grid_template_areas": null,
            "grid_template_columns": null,
            "grid_template_rows": null,
            "height": null,
            "justify_content": null,
            "justify_items": null,
            "left": null,
            "margin": null,
            "max_height": null,
            "max_width": null,
            "min_height": null,
            "min_width": null,
            "object_fit": null,
            "object_position": null,
            "order": null,
            "overflow": null,
            "overflow_x": null,
            "overflow_y": null,
            "padding": null,
            "right": null,
            "top": null,
            "visibility": null,
            "width": null
          }
        },
        "abdbb5f7fc7c4604a1fdceab899a1086": {
          "model_module": "@jupyter-widgets/controls",
          "model_name": "DescriptionStyleModel",
          "model_module_version": "1.5.0",
          "state": {
            "_model_module": "@jupyter-widgets/controls",
            "_model_module_version": "1.5.0",
            "_model_name": "DescriptionStyleModel",
            "_view_count": null,
            "_view_module": "@jupyter-widgets/base",
            "_view_module_version": "1.2.0",
            "_view_name": "StyleView",
            "description_width": ""
          }
        },
        "fb7a5b6628b94f959df16272dc9a379d": {
          "model_module": "@jupyter-widgets/controls",
          "model_name": "HBoxModel",
          "model_module_version": "1.5.0",
          "state": {
            "_dom_classes": [],
            "_model_module": "@jupyter-widgets/controls",
            "_model_module_version": "1.5.0",
            "_model_name": "HBoxModel",
            "_view_count": null,
            "_view_module": "@jupyter-widgets/controls",
            "_view_module_version": "1.5.0",
            "_view_name": "HBoxView",
            "box_style": "",
            "children": [
              "IPY_MODEL_e45d93655be044e09dc32ccf8489fd4c",
              "IPY_MODEL_bf87a554137f401682f7becf9a20ec02",
              "IPY_MODEL_760fef73891f4d88bcaf3d0f3bd1f5b1"
            ],
            "layout": "IPY_MODEL_87b1cf91929d4c39b317efaf7c0e8261"
          }
        },
        "e45d93655be044e09dc32ccf8489fd4c": {
          "model_module": "@jupyter-widgets/controls",
          "model_name": "HTMLModel",
          "model_module_version": "1.5.0",
          "state": {
            "_dom_classes": [],
            "_model_module": "@jupyter-widgets/controls",
            "_model_module_version": "1.5.0",
            "_model_name": "HTMLModel",
            "_view_count": null,
            "_view_module": "@jupyter-widgets/controls",
            "_view_module_version": "1.5.0",
            "_view_name": "HTMLView",
            "description": "",
            "description_tooltip": null,
            "layout": "IPY_MODEL_6013c84c8d66465e89d0aa8993288807",
            "placeholder": "​",
            "style": "IPY_MODEL_1ff984555543419bbc6b694bb0afb8cd",
            "value": "config.json: 100%"
          }
        },
        "bf87a554137f401682f7becf9a20ec02": {
          "model_module": "@jupyter-widgets/controls",
          "model_name": "FloatProgressModel",
          "model_module_version": "1.5.0",
          "state": {
            "_dom_classes": [],
            "_model_module": "@jupyter-widgets/controls",
            "_model_module_version": "1.5.0",
            "_model_name": "FloatProgressModel",
            "_view_count": null,
            "_view_module": "@jupyter-widgets/controls",
            "_view_module_version": "1.5.0",
            "_view_name": "ProgressView",
            "bar_style": "success",
            "description": "",
            "description_tooltip": null,
            "layout": "IPY_MODEL_d6e865ce510e48c1a70c00fe9d05fee7",
            "max": 625,
            "min": 0,
            "orientation": "horizontal",
            "style": "IPY_MODEL_7c988a74cad34adbb5b46c3aabf14c05",
            "value": 625
          }
        },
        "760fef73891f4d88bcaf3d0f3bd1f5b1": {
          "model_module": "@jupyter-widgets/controls",
          "model_name": "HTMLModel",
          "model_module_version": "1.5.0",
          "state": {
            "_dom_classes": [],
            "_model_module": "@jupyter-widgets/controls",
            "_model_module_version": "1.5.0",
            "_model_name": "HTMLModel",
            "_view_count": null,
            "_view_module": "@jupyter-widgets/controls",
            "_view_module_version": "1.5.0",
            "_view_name": "HTMLView",
            "description": "",
            "description_tooltip": null,
            "layout": "IPY_MODEL_2c908cbf62fa416698b995cc9217864c",
            "placeholder": "​",
            "style": "IPY_MODEL_cd975dfdb27d4da29087a1009ba08547",
            "value": " 625/625 [00:00&lt;00:00, 39.2kB/s]"
          }
        },
        "87b1cf91929d4c39b317efaf7c0e8261": {
          "model_module": "@jupyter-widgets/base",
          "model_name": "LayoutModel",
          "model_module_version": "1.2.0",
          "state": {
            "_model_module": "@jupyter-widgets/base",
            "_model_module_version": "1.2.0",
            "_model_name": "LayoutModel",
            "_view_count": null,
            "_view_module": "@jupyter-widgets/base",
            "_view_module_version": "1.2.0",
            "_view_name": "LayoutView",
            "align_content": null,
            "align_items": null,
            "align_self": null,
            "border": null,
            "bottom": null,
            "display": null,
            "flex": null,
            "flex_flow": null,
            "grid_area": null,
            "grid_auto_columns": null,
            "grid_auto_flow": null,
            "grid_auto_rows": null,
            "grid_column": null,
            "grid_gap": null,
            "grid_row": null,
            "grid_template_areas": null,
            "grid_template_columns": null,
            "grid_template_rows": null,
            "height": null,
            "justify_content": null,
            "justify_items": null,
            "left": null,
            "margin": null,
            "max_height": null,
            "max_width": null,
            "min_height": null,
            "min_width": null,
            "object_fit": null,
            "object_position": null,
            "order": null,
            "overflow": null,
            "overflow_x": null,
            "overflow_y": null,
            "padding": null,
            "right": null,
            "top": null,
            "visibility": null,
            "width": null
          }
        },
        "6013c84c8d66465e89d0aa8993288807": {
          "model_module": "@jupyter-widgets/base",
          "model_name": "LayoutModel",
          "model_module_version": "1.2.0",
          "state": {
            "_model_module": "@jupyter-widgets/base",
            "_model_module_version": "1.2.0",
            "_model_name": "LayoutModel",
            "_view_count": null,
            "_view_module": "@jupyter-widgets/base",
            "_view_module_version": "1.2.0",
            "_view_name": "LayoutView",
            "align_content": null,
            "align_items": null,
            "align_self": null,
            "border": null,
            "bottom": null,
            "display": null,
            "flex": null,
            "flex_flow": null,
            "grid_area": null,
            "grid_auto_columns": null,
            "grid_auto_flow": null,
            "grid_auto_rows": null,
            "grid_column": null,
            "grid_gap": null,
            "grid_row": null,
            "grid_template_areas": null,
            "grid_template_columns": null,
            "grid_template_rows": null,
            "height": null,
            "justify_content": null,
            "justify_items": null,
            "left": null,
            "margin": null,
            "max_height": null,
            "max_width": null,
            "min_height": null,
            "min_width": null,
            "object_fit": null,
            "object_position": null,
            "order": null,
            "overflow": null,
            "overflow_x": null,
            "overflow_y": null,
            "padding": null,
            "right": null,
            "top": null,
            "visibility": null,
            "width": null
          }
        },
        "1ff984555543419bbc6b694bb0afb8cd": {
          "model_module": "@jupyter-widgets/controls",
          "model_name": "DescriptionStyleModel",
          "model_module_version": "1.5.0",
          "state": {
            "_model_module": "@jupyter-widgets/controls",
            "_model_module_version": "1.5.0",
            "_model_name": "DescriptionStyleModel",
            "_view_count": null,
            "_view_module": "@jupyter-widgets/base",
            "_view_module_version": "1.2.0",
            "_view_name": "StyleView",
            "description_width": ""
          }
        },
        "d6e865ce510e48c1a70c00fe9d05fee7": {
          "model_module": "@jupyter-widgets/base",
          "model_name": "LayoutModel",
          "model_module_version": "1.2.0",
          "state": {
            "_model_module": "@jupyter-widgets/base",
            "_model_module_version": "1.2.0",
            "_model_name": "LayoutModel",
            "_view_count": null,
            "_view_module": "@jupyter-widgets/base",
            "_view_module_version": "1.2.0",
            "_view_name": "LayoutView",
            "align_content": null,
            "align_items": null,
            "align_self": null,
            "border": null,
            "bottom": null,
            "display": null,
            "flex": null,
            "flex_flow": null,
            "grid_area": null,
            "grid_auto_columns": null,
            "grid_auto_flow": null,
            "grid_auto_rows": null,
            "grid_column": null,
            "grid_gap": null,
            "grid_row": null,
            "grid_template_areas": null,
            "grid_template_columns": null,
            "grid_template_rows": null,
            "height": null,
            "justify_content": null,
            "justify_items": null,
            "left": null,
            "margin": null,
            "max_height": null,
            "max_width": null,
            "min_height": null,
            "min_width": null,
            "object_fit": null,
            "object_position": null,
            "order": null,
            "overflow": null,
            "overflow_x": null,
            "overflow_y": null,
            "padding": null,
            "right": null,
            "top": null,
            "visibility": null,
            "width": null
          }
        },
        "7c988a74cad34adbb5b46c3aabf14c05": {
          "model_module": "@jupyter-widgets/controls",
          "model_name": "ProgressStyleModel",
          "model_module_version": "1.5.0",
          "state": {
            "_model_module": "@jupyter-widgets/controls",
            "_model_module_version": "1.5.0",
            "_model_name": "ProgressStyleModel",
            "_view_count": null,
            "_view_module": "@jupyter-widgets/base",
            "_view_module_version": "1.2.0",
            "_view_name": "StyleView",
            "bar_color": null,
            "description_width": ""
          }
        },
        "2c908cbf62fa416698b995cc9217864c": {
          "model_module": "@jupyter-widgets/base",
          "model_name": "LayoutModel",
          "model_module_version": "1.2.0",
          "state": {
            "_model_module": "@jupyter-widgets/base",
            "_model_module_version": "1.2.0",
            "_model_name": "LayoutModel",
            "_view_count": null,
            "_view_module": "@jupyter-widgets/base",
            "_view_module_version": "1.2.0",
            "_view_name": "LayoutView",
            "align_content": null,
            "align_items": null,
            "align_self": null,
            "border": null,
            "bottom": null,
            "display": null,
            "flex": null,
            "flex_flow": null,
            "grid_area": null,
            "grid_auto_columns": null,
            "grid_auto_flow": null,
            "grid_auto_rows": null,
            "grid_column": null,
            "grid_gap": null,
            "grid_row": null,
            "grid_template_areas": null,
            "grid_template_columns": null,
            "grid_template_rows": null,
            "height": null,
            "justify_content": null,
            "justify_items": null,
            "left": null,
            "margin": null,
            "max_height": null,
            "max_width": null,
            "min_height": null,
            "min_width": null,
            "object_fit": null,
            "object_position": null,
            "order": null,
            "overflow": null,
            "overflow_x": null,
            "overflow_y": null,
            "padding": null,
            "right": null,
            "top": null,
            "visibility": null,
            "width": null
          }
        },
        "cd975dfdb27d4da29087a1009ba08547": {
          "model_module": "@jupyter-widgets/controls",
          "model_name": "DescriptionStyleModel",
          "model_module_version": "1.5.0",
          "state": {
            "_model_module": "@jupyter-widgets/controls",
            "_model_module_version": "1.5.0",
            "_model_name": "DescriptionStyleModel",
            "_view_count": null,
            "_view_module": "@jupyter-widgets/base",
            "_view_module_version": "1.2.0",
            "_view_name": "StyleView",
            "description_width": ""
          }
        },
        "ef908dceb69e494489b4b588da88d6a0": {
          "model_module": "@jupyter-widgets/controls",
          "model_name": "HBoxModel",
          "model_module_version": "1.5.0",
          "state": {
            "_dom_classes": [],
            "_model_module": "@jupyter-widgets/controls",
            "_model_module_version": "1.5.0",
            "_model_name": "HBoxModel",
            "_view_count": null,
            "_view_module": "@jupyter-widgets/controls",
            "_view_module_version": "1.5.0",
            "_view_name": "HBoxView",
            "box_style": "",
            "children": [
              "IPY_MODEL_824acecfd4044b70be13185fd63af1e4",
              "IPY_MODEL_1541b8344188471fb2cb30ef9b9f09e9",
              "IPY_MODEL_44f74a6450a04bebb625e21143851159"
            ],
            "layout": "IPY_MODEL_ea7c27fe013247a8a30c8f6fb7bd2216"
          }
        },
        "824acecfd4044b70be13185fd63af1e4": {
          "model_module": "@jupyter-widgets/controls",
          "model_name": "HTMLModel",
          "model_module_version": "1.5.0",
          "state": {
            "_dom_classes": [],
            "_model_module": "@jupyter-widgets/controls",
            "_model_module_version": "1.5.0",
            "_model_name": "HTMLModel",
            "_view_count": null,
            "_view_module": "@jupyter-widgets/controls",
            "_view_module_version": "1.5.0",
            "_view_name": "HTMLView",
            "description": "",
            "description_tooltip": null,
            "layout": "IPY_MODEL_7195f56b0e1f49e0b17c3365b2c93eca",
            "placeholder": "​",
            "style": "IPY_MODEL_dbebed336de54cf2ad5e49bc97847d74",
            "value": "vocab.txt: 100%"
          }
        },
        "1541b8344188471fb2cb30ef9b9f09e9": {
          "model_module": "@jupyter-widgets/controls",
          "model_name": "FloatProgressModel",
          "model_module_version": "1.5.0",
          "state": {
            "_dom_classes": [],
            "_model_module": "@jupyter-widgets/controls",
            "_model_module_version": "1.5.0",
            "_model_name": "FloatProgressModel",
            "_view_count": null,
            "_view_module": "@jupyter-widgets/controls",
            "_view_module_version": "1.5.0",
            "_view_name": "ProgressView",
            "bar_style": "success",
            "description": "",
            "description_tooltip": null,
            "layout": "IPY_MODEL_732024a2cdbd433e9228f1af0745013c",
            "max": 231508,
            "min": 0,
            "orientation": "horizontal",
            "style": "IPY_MODEL_acffc2fbf7474a42ad3cb0b97ade5590",
            "value": 231508
          }
        },
        "44f74a6450a04bebb625e21143851159": {
          "model_module": "@jupyter-widgets/controls",
          "model_name": "HTMLModel",
          "model_module_version": "1.5.0",
          "state": {
            "_dom_classes": [],
            "_model_module": "@jupyter-widgets/controls",
            "_model_module_version": "1.5.0",
            "_model_name": "HTMLModel",
            "_view_count": null,
            "_view_module": "@jupyter-widgets/controls",
            "_view_module_version": "1.5.0",
            "_view_name": "HTMLView",
            "description": "",
            "description_tooltip": null,
            "layout": "IPY_MODEL_d1de0df639e1437bbca2cc075659167d",
            "placeholder": "​",
            "style": "IPY_MODEL_90cf40bf0c554f6b922ef89787c357ea",
            "value": " 232k/232k [00:00&lt;00:00, 6.28MB/s]"
          }
        },
        "ea7c27fe013247a8a30c8f6fb7bd2216": {
          "model_module": "@jupyter-widgets/base",
          "model_name": "LayoutModel",
          "model_module_version": "1.2.0",
          "state": {
            "_model_module": "@jupyter-widgets/base",
            "_model_module_version": "1.2.0",
            "_model_name": "LayoutModel",
            "_view_count": null,
            "_view_module": "@jupyter-widgets/base",
            "_view_module_version": "1.2.0",
            "_view_name": "LayoutView",
            "align_content": null,
            "align_items": null,
            "align_self": null,
            "border": null,
            "bottom": null,
            "display": null,
            "flex": null,
            "flex_flow": null,
            "grid_area": null,
            "grid_auto_columns": null,
            "grid_auto_flow": null,
            "grid_auto_rows": null,
            "grid_column": null,
            "grid_gap": null,
            "grid_row": null,
            "grid_template_areas": null,
            "grid_template_columns": null,
            "grid_template_rows": null,
            "height": null,
            "justify_content": null,
            "justify_items": null,
            "left": null,
            "margin": null,
            "max_height": null,
            "max_width": null,
            "min_height": null,
            "min_width": null,
            "object_fit": null,
            "object_position": null,
            "order": null,
            "overflow": null,
            "overflow_x": null,
            "overflow_y": null,
            "padding": null,
            "right": null,
            "top": null,
            "visibility": null,
            "width": null
          }
        },
        "7195f56b0e1f49e0b17c3365b2c93eca": {
          "model_module": "@jupyter-widgets/base",
          "model_name": "LayoutModel",
          "model_module_version": "1.2.0",
          "state": {
            "_model_module": "@jupyter-widgets/base",
            "_model_module_version": "1.2.0",
            "_model_name": "LayoutModel",
            "_view_count": null,
            "_view_module": "@jupyter-widgets/base",
            "_view_module_version": "1.2.0",
            "_view_name": "LayoutView",
            "align_content": null,
            "align_items": null,
            "align_self": null,
            "border": null,
            "bottom": null,
            "display": null,
            "flex": null,
            "flex_flow": null,
            "grid_area": null,
            "grid_auto_columns": null,
            "grid_auto_flow": null,
            "grid_auto_rows": null,
            "grid_column": null,
            "grid_gap": null,
            "grid_row": null,
            "grid_template_areas": null,
            "grid_template_columns": null,
            "grid_template_rows": null,
            "height": null,
            "justify_content": null,
            "justify_items": null,
            "left": null,
            "margin": null,
            "max_height": null,
            "max_width": null,
            "min_height": null,
            "min_width": null,
            "object_fit": null,
            "object_position": null,
            "order": null,
            "overflow": null,
            "overflow_x": null,
            "overflow_y": null,
            "padding": null,
            "right": null,
            "top": null,
            "visibility": null,
            "width": null
          }
        },
        "dbebed336de54cf2ad5e49bc97847d74": {
          "model_module": "@jupyter-widgets/controls",
          "model_name": "DescriptionStyleModel",
          "model_module_version": "1.5.0",
          "state": {
            "_model_module": "@jupyter-widgets/controls",
            "_model_module_version": "1.5.0",
            "_model_name": "DescriptionStyleModel",
            "_view_count": null,
            "_view_module": "@jupyter-widgets/base",
            "_view_module_version": "1.2.0",
            "_view_name": "StyleView",
            "description_width": ""
          }
        },
        "732024a2cdbd433e9228f1af0745013c": {
          "model_module": "@jupyter-widgets/base",
          "model_name": "LayoutModel",
          "model_module_version": "1.2.0",
          "state": {
            "_model_module": "@jupyter-widgets/base",
            "_model_module_version": "1.2.0",
            "_model_name": "LayoutModel",
            "_view_count": null,
            "_view_module": "@jupyter-widgets/base",
            "_view_module_version": "1.2.0",
            "_view_name": "LayoutView",
            "align_content": null,
            "align_items": null,
            "align_self": null,
            "border": null,
            "bottom": null,
            "display": null,
            "flex": null,
            "flex_flow": null,
            "grid_area": null,
            "grid_auto_columns": null,
            "grid_auto_flow": null,
            "grid_auto_rows": null,
            "grid_column": null,
            "grid_gap": null,
            "grid_row": null,
            "grid_template_areas": null,
            "grid_template_columns": null,
            "grid_template_rows": null,
            "height": null,
            "justify_content": null,
            "justify_items": null,
            "left": null,
            "margin": null,
            "max_height": null,
            "max_width": null,
            "min_height": null,
            "min_width": null,
            "object_fit": null,
            "object_position": null,
            "order": null,
            "overflow": null,
            "overflow_x": null,
            "overflow_y": null,
            "padding": null,
            "right": null,
            "top": null,
            "visibility": null,
            "width": null
          }
        },
        "acffc2fbf7474a42ad3cb0b97ade5590": {
          "model_module": "@jupyter-widgets/controls",
          "model_name": "ProgressStyleModel",
          "model_module_version": "1.5.0",
          "state": {
            "_model_module": "@jupyter-widgets/controls",
            "_model_module_version": "1.5.0",
            "_model_name": "ProgressStyleModel",
            "_view_count": null,
            "_view_module": "@jupyter-widgets/base",
            "_view_module_version": "1.2.0",
            "_view_name": "StyleView",
            "bar_color": null,
            "description_width": ""
          }
        },
        "d1de0df639e1437bbca2cc075659167d": {
          "model_module": "@jupyter-widgets/base",
          "model_name": "LayoutModel",
          "model_module_version": "1.2.0",
          "state": {
            "_model_module": "@jupyter-widgets/base",
            "_model_module_version": "1.2.0",
            "_model_name": "LayoutModel",
            "_view_count": null,
            "_view_module": "@jupyter-widgets/base",
            "_view_module_version": "1.2.0",
            "_view_name": "LayoutView",
            "align_content": null,
            "align_items": null,
            "align_self": null,
            "border": null,
            "bottom": null,
            "display": null,
            "flex": null,
            "flex_flow": null,
            "grid_area": null,
            "grid_auto_columns": null,
            "grid_auto_flow": null,
            "grid_auto_rows": null,
            "grid_column": null,
            "grid_gap": null,
            "grid_row": null,
            "grid_template_areas": null,
            "grid_template_columns": null,
            "grid_template_rows": null,
            "height": null,
            "justify_content": null,
            "justify_items": null,
            "left": null,
            "margin": null,
            "max_height": null,
            "max_width": null,
            "min_height": null,
            "min_width": null,
            "object_fit": null,
            "object_position": null,
            "order": null,
            "overflow": null,
            "overflow_x": null,
            "overflow_y": null,
            "padding": null,
            "right": null,
            "top": null,
            "visibility": null,
            "width": null
          }
        },
        "90cf40bf0c554f6b922ef89787c357ea": {
          "model_module": "@jupyter-widgets/controls",
          "model_name": "DescriptionStyleModel",
          "model_module_version": "1.5.0",
          "state": {
            "_model_module": "@jupyter-widgets/controls",
            "_model_module_version": "1.5.0",
            "_model_name": "DescriptionStyleModel",
            "_view_count": null,
            "_view_module": "@jupyter-widgets/base",
            "_view_module_version": "1.2.0",
            "_view_name": "StyleView",
            "description_width": ""
          }
        },
        "cc0f90e765db44ba86ad72e051d6527f": {
          "model_module": "@jupyter-widgets/controls",
          "model_name": "HBoxModel",
          "model_module_version": "1.5.0",
          "state": {
            "_dom_classes": [],
            "_model_module": "@jupyter-widgets/controls",
            "_model_module_version": "1.5.0",
            "_model_name": "HBoxModel",
            "_view_count": null,
            "_view_module": "@jupyter-widgets/controls",
            "_view_module_version": "1.5.0",
            "_view_name": "HBoxView",
            "box_style": "",
            "children": [
              "IPY_MODEL_2e81834aaaa7445cb5ab364617dcb87c",
              "IPY_MODEL_c7822bfff06c46619388393ad94c36b7",
              "IPY_MODEL_d6588d7ec476472e84e2647f74844301"
            ],
            "layout": "IPY_MODEL_3d47439b5b7a4dc5a5297278f9b8f8d2"
          }
        },
        "2e81834aaaa7445cb5ab364617dcb87c": {
          "model_module": "@jupyter-widgets/controls",
          "model_name": "HTMLModel",
          "model_module_version": "1.5.0",
          "state": {
            "_dom_classes": [],
            "_model_module": "@jupyter-widgets/controls",
            "_model_module_version": "1.5.0",
            "_model_name": "HTMLModel",
            "_view_count": null,
            "_view_module": "@jupyter-widgets/controls",
            "_view_module_version": "1.5.0",
            "_view_name": "HTMLView",
            "description": "",
            "description_tooltip": null,
            "layout": "IPY_MODEL_179c6ba932ac4cac9ed1205e5d05c561",
            "placeholder": "​",
            "style": "IPY_MODEL_520940a39e3a460883aa6159bc74d864",
            "value": "tokenizer.json: 100%"
          }
        },
        "c7822bfff06c46619388393ad94c36b7": {
          "model_module": "@jupyter-widgets/controls",
          "model_name": "FloatProgressModel",
          "model_module_version": "1.5.0",
          "state": {
            "_dom_classes": [],
            "_model_module": "@jupyter-widgets/controls",
            "_model_module_version": "1.5.0",
            "_model_name": "FloatProgressModel",
            "_view_count": null,
            "_view_module": "@jupyter-widgets/controls",
            "_view_module_version": "1.5.0",
            "_view_name": "ProgressView",
            "bar_style": "success",
            "description": "",
            "description_tooltip": null,
            "layout": "IPY_MODEL_bbe15f0866e243ba8f2d171576cc4438",
            "max": 466081,
            "min": 0,
            "orientation": "horizontal",
            "style": "IPY_MODEL_86568faee76140f585d6e4ac52f882c9",
            "value": 466081
          }
        },
        "d6588d7ec476472e84e2647f74844301": {
          "model_module": "@jupyter-widgets/controls",
          "model_name": "HTMLModel",
          "model_module_version": "1.5.0",
          "state": {
            "_dom_classes": [],
            "_model_module": "@jupyter-widgets/controls",
            "_model_module_version": "1.5.0",
            "_model_name": "HTMLModel",
            "_view_count": null,
            "_view_module": "@jupyter-widgets/controls",
            "_view_module_version": "1.5.0",
            "_view_name": "HTMLView",
            "description": "",
            "description_tooltip": null,
            "layout": "IPY_MODEL_98a48e3dc7644c209f1d289235770e4e",
            "placeholder": "​",
            "style": "IPY_MODEL_29316cfa54d740209b961ead5ac509e4",
            "value": " 466k/466k [00:00&lt;00:00, 16.6MB/s]"
          }
        },
        "3d47439b5b7a4dc5a5297278f9b8f8d2": {
          "model_module": "@jupyter-widgets/base",
          "model_name": "LayoutModel",
          "model_module_version": "1.2.0",
          "state": {
            "_model_module": "@jupyter-widgets/base",
            "_model_module_version": "1.2.0",
            "_model_name": "LayoutModel",
            "_view_count": null,
            "_view_module": "@jupyter-widgets/base",
            "_view_module_version": "1.2.0",
            "_view_name": "LayoutView",
            "align_content": null,
            "align_items": null,
            "align_self": null,
            "border": null,
            "bottom": null,
            "display": null,
            "flex": null,
            "flex_flow": null,
            "grid_area": null,
            "grid_auto_columns": null,
            "grid_auto_flow": null,
            "grid_auto_rows": null,
            "grid_column": null,
            "grid_gap": null,
            "grid_row": null,
            "grid_template_areas": null,
            "grid_template_columns": null,
            "grid_template_rows": null,
            "height": null,
            "justify_content": null,
            "justify_items": null,
            "left": null,
            "margin": null,
            "max_height": null,
            "max_width": null,
            "min_height": null,
            "min_width": null,
            "object_fit": null,
            "object_position": null,
            "order": null,
            "overflow": null,
            "overflow_x": null,
            "overflow_y": null,
            "padding": null,
            "right": null,
            "top": null,
            "visibility": null,
            "width": null
          }
        },
        "179c6ba932ac4cac9ed1205e5d05c561": {
          "model_module": "@jupyter-widgets/base",
          "model_name": "LayoutModel",
          "model_module_version": "1.2.0",
          "state": {
            "_model_module": "@jupyter-widgets/base",
            "_model_module_version": "1.2.0",
            "_model_name": "LayoutModel",
            "_view_count": null,
            "_view_module": "@jupyter-widgets/base",
            "_view_module_version": "1.2.0",
            "_view_name": "LayoutView",
            "align_content": null,
            "align_items": null,
            "align_self": null,
            "border": null,
            "bottom": null,
            "display": null,
            "flex": null,
            "flex_flow": null,
            "grid_area": null,
            "grid_auto_columns": null,
            "grid_auto_flow": null,
            "grid_auto_rows": null,
            "grid_column": null,
            "grid_gap": null,
            "grid_row": null,
            "grid_template_areas": null,
            "grid_template_columns": null,
            "grid_template_rows": null,
            "height": null,
            "justify_content": null,
            "justify_items": null,
            "left": null,
            "margin": null,
            "max_height": null,
            "max_width": null,
            "min_height": null,
            "min_width": null,
            "object_fit": null,
            "object_position": null,
            "order": null,
            "overflow": null,
            "overflow_x": null,
            "overflow_y": null,
            "padding": null,
            "right": null,
            "top": null,
            "visibility": null,
            "width": null
          }
        },
        "520940a39e3a460883aa6159bc74d864": {
          "model_module": "@jupyter-widgets/controls",
          "model_name": "DescriptionStyleModel",
          "model_module_version": "1.5.0",
          "state": {
            "_model_module": "@jupyter-widgets/controls",
            "_model_module_version": "1.5.0",
            "_model_name": "DescriptionStyleModel",
            "_view_count": null,
            "_view_module": "@jupyter-widgets/base",
            "_view_module_version": "1.2.0",
            "_view_name": "StyleView",
            "description_width": ""
          }
        },
        "bbe15f0866e243ba8f2d171576cc4438": {
          "model_module": "@jupyter-widgets/base",
          "model_name": "LayoutModel",
          "model_module_version": "1.2.0",
          "state": {
            "_model_module": "@jupyter-widgets/base",
            "_model_module_version": "1.2.0",
            "_model_name": "LayoutModel",
            "_view_count": null,
            "_view_module": "@jupyter-widgets/base",
            "_view_module_version": "1.2.0",
            "_view_name": "LayoutView",
            "align_content": null,
            "align_items": null,
            "align_self": null,
            "border": null,
            "bottom": null,
            "display": null,
            "flex": null,
            "flex_flow": null,
            "grid_area": null,
            "grid_auto_columns": null,
            "grid_auto_flow": null,
            "grid_auto_rows": null,
            "grid_column": null,
            "grid_gap": null,
            "grid_row": null,
            "grid_template_areas": null,
            "grid_template_columns": null,
            "grid_template_rows": null,
            "height": null,
            "justify_content": null,
            "justify_items": null,
            "left": null,
            "margin": null,
            "max_height": null,
            "max_width": null,
            "min_height": null,
            "min_width": null,
            "object_fit": null,
            "object_position": null,
            "order": null,
            "overflow": null,
            "overflow_x": null,
            "overflow_y": null,
            "padding": null,
            "right": null,
            "top": null,
            "visibility": null,
            "width": null
          }
        },
        "86568faee76140f585d6e4ac52f882c9": {
          "model_module": "@jupyter-widgets/controls",
          "model_name": "ProgressStyleModel",
          "model_module_version": "1.5.0",
          "state": {
            "_model_module": "@jupyter-widgets/controls",
            "_model_module_version": "1.5.0",
            "_model_name": "ProgressStyleModel",
            "_view_count": null,
            "_view_module": "@jupyter-widgets/base",
            "_view_module_version": "1.2.0",
            "_view_name": "StyleView",
            "bar_color": null,
            "description_width": ""
          }
        },
        "98a48e3dc7644c209f1d289235770e4e": {
          "model_module": "@jupyter-widgets/base",
          "model_name": "LayoutModel",
          "model_module_version": "1.2.0",
          "state": {
            "_model_module": "@jupyter-widgets/base",
            "_model_module_version": "1.2.0",
            "_model_name": "LayoutModel",
            "_view_count": null,
            "_view_module": "@jupyter-widgets/base",
            "_view_module_version": "1.2.0",
            "_view_name": "LayoutView",
            "align_content": null,
            "align_items": null,
            "align_self": null,
            "border": null,
            "bottom": null,
            "display": null,
            "flex": null,
            "flex_flow": null,
            "grid_area": null,
            "grid_auto_columns": null,
            "grid_auto_flow": null,
            "grid_auto_rows": null,
            "grid_column": null,
            "grid_gap": null,
            "grid_row": null,
            "grid_template_areas": null,
            "grid_template_columns": null,
            "grid_template_rows": null,
            "height": null,
            "justify_content": null,
            "justify_items": null,
            "left": null,
            "margin": null,
            "max_height": null,
            "max_width": null,
            "min_height": null,
            "min_width": null,
            "object_fit": null,
            "object_position": null,
            "order": null,
            "overflow": null,
            "overflow_x": null,
            "overflow_y": null,
            "padding": null,
            "right": null,
            "top": null,
            "visibility": null,
            "width": null
          }
        },
        "29316cfa54d740209b961ead5ac509e4": {
          "model_module": "@jupyter-widgets/controls",
          "model_name": "DescriptionStyleModel",
          "model_module_version": "1.5.0",
          "state": {
            "_model_module": "@jupyter-widgets/controls",
            "_model_module_version": "1.5.0",
            "_model_name": "DescriptionStyleModel",
            "_view_count": null,
            "_view_module": "@jupyter-widgets/base",
            "_view_module_version": "1.2.0",
            "_view_name": "StyleView",
            "description_width": ""
          }
        },
        "0943c51327a54b09a436f2abc8f81e8c": {
          "model_module": "@jupyter-widgets/controls",
          "model_name": "HBoxModel",
          "model_module_version": "1.5.0",
          "state": {
            "_dom_classes": [],
            "_model_module": "@jupyter-widgets/controls",
            "_model_module_version": "1.5.0",
            "_model_name": "HBoxModel",
            "_view_count": null,
            "_view_module": "@jupyter-widgets/controls",
            "_view_module_version": "1.5.0",
            "_view_name": "HBoxView",
            "box_style": "",
            "children": [
              "IPY_MODEL_9238a0818f644bc188bf6369c6fdab2e",
              "IPY_MODEL_68c2a5c0f6594646b87a15abe68e2865",
              "IPY_MODEL_97635f9ce78e47a7966b60cd4fe544e6"
            ],
            "layout": "IPY_MODEL_658fd4f74d0b42989f8b485434ecf791"
          }
        },
        "9238a0818f644bc188bf6369c6fdab2e": {
          "model_module": "@jupyter-widgets/controls",
          "model_name": "HTMLModel",
          "model_module_version": "1.5.0",
          "state": {
            "_dom_classes": [],
            "_model_module": "@jupyter-widgets/controls",
            "_model_module_version": "1.5.0",
            "_model_name": "HTMLModel",
            "_view_count": null,
            "_view_module": "@jupyter-widgets/controls",
            "_view_module_version": "1.5.0",
            "_view_name": "HTMLView",
            "description": "",
            "description_tooltip": null,
            "layout": "IPY_MODEL_31774e04271f498484c81af60099f055",
            "placeholder": "​",
            "style": "IPY_MODEL_6b0319c01fcf47dbaff43b161051248d",
            "value": "added_tokens.json: 100%"
          }
        },
        "68c2a5c0f6594646b87a15abe68e2865": {
          "model_module": "@jupyter-widgets/controls",
          "model_name": "FloatProgressModel",
          "model_module_version": "1.5.0",
          "state": {
            "_dom_classes": [],
            "_model_module": "@jupyter-widgets/controls",
            "_model_module_version": "1.5.0",
            "_model_name": "FloatProgressModel",
            "_view_count": null,
            "_view_module": "@jupyter-widgets/controls",
            "_view_module_version": "1.5.0",
            "_view_name": "ProgressView",
            "bar_style": "success",
            "description": "",
            "description_tooltip": null,
            "layout": "IPY_MODEL_81eb3e7722f8492fb118bd0a24c9922f",
            "max": 2,
            "min": 0,
            "orientation": "horizontal",
            "style": "IPY_MODEL_89e4f83dcaff44188c46a940590cba2d",
            "value": 2
          }
        },
        "97635f9ce78e47a7966b60cd4fe544e6": {
          "model_module": "@jupyter-widgets/controls",
          "model_name": "HTMLModel",
          "model_module_version": "1.5.0",
          "state": {
            "_dom_classes": [],
            "_model_module": "@jupyter-widgets/controls",
            "_model_module_version": "1.5.0",
            "_model_name": "HTMLModel",
            "_view_count": null,
            "_view_module": "@jupyter-widgets/controls",
            "_view_module_version": "1.5.0",
            "_view_name": "HTMLView",
            "description": "",
            "description_tooltip": null,
            "layout": "IPY_MODEL_39866fda59d94fdd9b2b01318b5ef2bf",
            "placeholder": "​",
            "style": "IPY_MODEL_df05d94bd5be4cf8920f05e9e2904da7",
            "value": " 2.00/2.00 [00:00&lt;00:00, 168B/s]"
          }
        },
        "658fd4f74d0b42989f8b485434ecf791": {
          "model_module": "@jupyter-widgets/base",
          "model_name": "LayoutModel",
          "model_module_version": "1.2.0",
          "state": {
            "_model_module": "@jupyter-widgets/base",
            "_model_module_version": "1.2.0",
            "_model_name": "LayoutModel",
            "_view_count": null,
            "_view_module": "@jupyter-widgets/base",
            "_view_module_version": "1.2.0",
            "_view_name": "LayoutView",
            "align_content": null,
            "align_items": null,
            "align_self": null,
            "border": null,
            "bottom": null,
            "display": null,
            "flex": null,
            "flex_flow": null,
            "grid_area": null,
            "grid_auto_columns": null,
            "grid_auto_flow": null,
            "grid_auto_rows": null,
            "grid_column": null,
            "grid_gap": null,
            "grid_row": null,
            "grid_template_areas": null,
            "grid_template_columns": null,
            "grid_template_rows": null,
            "height": null,
            "justify_content": null,
            "justify_items": null,
            "left": null,
            "margin": null,
            "max_height": null,
            "max_width": null,
            "min_height": null,
            "min_width": null,
            "object_fit": null,
            "object_position": null,
            "order": null,
            "overflow": null,
            "overflow_x": null,
            "overflow_y": null,
            "padding": null,
            "right": null,
            "top": null,
            "visibility": null,
            "width": null
          }
        },
        "31774e04271f498484c81af60099f055": {
          "model_module": "@jupyter-widgets/base",
          "model_name": "LayoutModel",
          "model_module_version": "1.2.0",
          "state": {
            "_model_module": "@jupyter-widgets/base",
            "_model_module_version": "1.2.0",
            "_model_name": "LayoutModel",
            "_view_count": null,
            "_view_module": "@jupyter-widgets/base",
            "_view_module_version": "1.2.0",
            "_view_name": "LayoutView",
            "align_content": null,
            "align_items": null,
            "align_self": null,
            "border": null,
            "bottom": null,
            "display": null,
            "flex": null,
            "flex_flow": null,
            "grid_area": null,
            "grid_auto_columns": null,
            "grid_auto_flow": null,
            "grid_auto_rows": null,
            "grid_column": null,
            "grid_gap": null,
            "grid_row": null,
            "grid_template_areas": null,
            "grid_template_columns": null,
            "grid_template_rows": null,
            "height": null,
            "justify_content": null,
            "justify_items": null,
            "left": null,
            "margin": null,
            "max_height": null,
            "max_width": null,
            "min_height": null,
            "min_width": null,
            "object_fit": null,
            "object_position": null,
            "order": null,
            "overflow": null,
            "overflow_x": null,
            "overflow_y": null,
            "padding": null,
            "right": null,
            "top": null,
            "visibility": null,
            "width": null
          }
        },
        "6b0319c01fcf47dbaff43b161051248d": {
          "model_module": "@jupyter-widgets/controls",
          "model_name": "DescriptionStyleModel",
          "model_module_version": "1.5.0",
          "state": {
            "_model_module": "@jupyter-widgets/controls",
            "_model_module_version": "1.5.0",
            "_model_name": "DescriptionStyleModel",
            "_view_count": null,
            "_view_module": "@jupyter-widgets/base",
            "_view_module_version": "1.2.0",
            "_view_name": "StyleView",
            "description_width": ""
          }
        },
        "81eb3e7722f8492fb118bd0a24c9922f": {
          "model_module": "@jupyter-widgets/base",
          "model_name": "LayoutModel",
          "model_module_version": "1.2.0",
          "state": {
            "_model_module": "@jupyter-widgets/base",
            "_model_module_version": "1.2.0",
            "_model_name": "LayoutModel",
            "_view_count": null,
            "_view_module": "@jupyter-widgets/base",
            "_view_module_version": "1.2.0",
            "_view_name": "LayoutView",
            "align_content": null,
            "align_items": null,
            "align_self": null,
            "border": null,
            "bottom": null,
            "display": null,
            "flex": null,
            "flex_flow": null,
            "grid_area": null,
            "grid_auto_columns": null,
            "grid_auto_flow": null,
            "grid_auto_rows": null,
            "grid_column": null,
            "grid_gap": null,
            "grid_row": null,
            "grid_template_areas": null,
            "grid_template_columns": null,
            "grid_template_rows": null,
            "height": null,
            "justify_content": null,
            "justify_items": null,
            "left": null,
            "margin": null,
            "max_height": null,
            "max_width": null,
            "min_height": null,
            "min_width": null,
            "object_fit": null,
            "object_position": null,
            "order": null,
            "overflow": null,
            "overflow_x": null,
            "overflow_y": null,
            "padding": null,
            "right": null,
            "top": null,
            "visibility": null,
            "width": null
          }
        },
        "89e4f83dcaff44188c46a940590cba2d": {
          "model_module": "@jupyter-widgets/controls",
          "model_name": "ProgressStyleModel",
          "model_module_version": "1.5.0",
          "state": {
            "_model_module": "@jupyter-widgets/controls",
            "_model_module_version": "1.5.0",
            "_model_name": "ProgressStyleModel",
            "_view_count": null,
            "_view_module": "@jupyter-widgets/base",
            "_view_module_version": "1.2.0",
            "_view_name": "StyleView",
            "bar_color": null,
            "description_width": ""
          }
        },
        "39866fda59d94fdd9b2b01318b5ef2bf": {
          "model_module": "@jupyter-widgets/base",
          "model_name": "LayoutModel",
          "model_module_version": "1.2.0",
          "state": {
            "_model_module": "@jupyter-widgets/base",
            "_model_module_version": "1.2.0",
            "_model_name": "LayoutModel",
            "_view_count": null,
            "_view_module": "@jupyter-widgets/base",
            "_view_module_version": "1.2.0",
            "_view_name": "LayoutView",
            "align_content": null,
            "align_items": null,
            "align_self": null,
            "border": null,
            "bottom": null,
            "display": null,
            "flex": null,
            "flex_flow": null,
            "grid_area": null,
            "grid_auto_columns": null,
            "grid_auto_flow": null,
            "grid_auto_rows": null,
            "grid_column": null,
            "grid_gap": null,
            "grid_row": null,
            "grid_template_areas": null,
            "grid_template_columns": null,
            "grid_template_rows": null,
            "height": null,
            "justify_content": null,
            "justify_items": null,
            "left": null,
            "margin": null,
            "max_height": null,
            "max_width": null,
            "min_height": null,
            "min_width": null,
            "object_fit": null,
            "object_position": null,
            "order": null,
            "overflow": null,
            "overflow_x": null,
            "overflow_y": null,
            "padding": null,
            "right": null,
            "top": null,
            "visibility": null,
            "width": null
          }
        },
        "df05d94bd5be4cf8920f05e9e2904da7": {
          "model_module": "@jupyter-widgets/controls",
          "model_name": "DescriptionStyleModel",
          "model_module_version": "1.5.0",
          "state": {
            "_model_module": "@jupyter-widgets/controls",
            "_model_module_version": "1.5.0",
            "_model_name": "DescriptionStyleModel",
            "_view_count": null,
            "_view_module": "@jupyter-widgets/base",
            "_view_module_version": "1.2.0",
            "_view_name": "StyleView",
            "description_width": ""
          }
        },
        "70fa06181703465cb1054c3f3c242746": {
          "model_module": "@jupyter-widgets/controls",
          "model_name": "HBoxModel",
          "model_module_version": "1.5.0",
          "state": {
            "_dom_classes": [],
            "_model_module": "@jupyter-widgets/controls",
            "_model_module_version": "1.5.0",
            "_model_name": "HBoxModel",
            "_view_count": null,
            "_view_module": "@jupyter-widgets/controls",
            "_view_module_version": "1.5.0",
            "_view_name": "HBoxView",
            "box_style": "",
            "children": [
              "IPY_MODEL_ea86b4766c254f928d6dc2f75d670b91",
              "IPY_MODEL_9e268a00ca914c97a8233f9aed18e525",
              "IPY_MODEL_4bcbbd80a2054d06afc1f9654a4a494c"
            ],
            "layout": "IPY_MODEL_63d9b18e02d24e34b4aaae224968fe9f"
          }
        },
        "ea86b4766c254f928d6dc2f75d670b91": {
          "model_module": "@jupyter-widgets/controls",
          "model_name": "HTMLModel",
          "model_module_version": "1.5.0",
          "state": {
            "_dom_classes": [],
            "_model_module": "@jupyter-widgets/controls",
            "_model_module_version": "1.5.0",
            "_model_name": "HTMLModel",
            "_view_count": null,
            "_view_module": "@jupyter-widgets/controls",
            "_view_module_version": "1.5.0",
            "_view_name": "HTMLView",
            "description": "",
            "description_tooltip": null,
            "layout": "IPY_MODEL_719d3c58aaa24b0f8aa029ec27e075e4",
            "placeholder": "​",
            "style": "IPY_MODEL_d1e4f4059b454f5a8310a26dc110602c",
            "value": "special_tokens_map.json: 100%"
          }
        },
        "9e268a00ca914c97a8233f9aed18e525": {
          "model_module": "@jupyter-widgets/controls",
          "model_name": "FloatProgressModel",
          "model_module_version": "1.5.0",
          "state": {
            "_dom_classes": [],
            "_model_module": "@jupyter-widgets/controls",
            "_model_module_version": "1.5.0",
            "_model_name": "FloatProgressModel",
            "_view_count": null,
            "_view_module": "@jupyter-widgets/controls",
            "_view_module_version": "1.5.0",
            "_view_name": "ProgressView",
            "bar_style": "success",
            "description": "",
            "description_tooltip": null,
            "layout": "IPY_MODEL_160a454c3b5446bfa3bbbd2ee6e7040c",
            "max": 112,
            "min": 0,
            "orientation": "horizontal",
            "style": "IPY_MODEL_8f3e3c830f864430ab04500585c7f178",
            "value": 112
          }
        },
        "4bcbbd80a2054d06afc1f9654a4a494c": {
          "model_module": "@jupyter-widgets/controls",
          "model_name": "HTMLModel",
          "model_module_version": "1.5.0",
          "state": {
            "_dom_classes": [],
            "_model_module": "@jupyter-widgets/controls",
            "_model_module_version": "1.5.0",
            "_model_name": "HTMLModel",
            "_view_count": null,
            "_view_module": "@jupyter-widgets/controls",
            "_view_module_version": "1.5.0",
            "_view_name": "HTMLView",
            "description": "",
            "description_tooltip": null,
            "layout": "IPY_MODEL_c09e50b8636f44959752b1693e5e113f",
            "placeholder": "​",
            "style": "IPY_MODEL_b0a1e811990e430ab4f1347bec4e4f95",
            "value": " 112/112 [00:00&lt;00:00, 7.16kB/s]"
          }
        },
        "63d9b18e02d24e34b4aaae224968fe9f": {
          "model_module": "@jupyter-widgets/base",
          "model_name": "LayoutModel",
          "model_module_version": "1.2.0",
          "state": {
            "_model_module": "@jupyter-widgets/base",
            "_model_module_version": "1.2.0",
            "_model_name": "LayoutModel",
            "_view_count": null,
            "_view_module": "@jupyter-widgets/base",
            "_view_module_version": "1.2.0",
            "_view_name": "LayoutView",
            "align_content": null,
            "align_items": null,
            "align_self": null,
            "border": null,
            "bottom": null,
            "display": null,
            "flex": null,
            "flex_flow": null,
            "grid_area": null,
            "grid_auto_columns": null,
            "grid_auto_flow": null,
            "grid_auto_rows": null,
            "grid_column": null,
            "grid_gap": null,
            "grid_row": null,
            "grid_template_areas": null,
            "grid_template_columns": null,
            "grid_template_rows": null,
            "height": null,
            "justify_content": null,
            "justify_items": null,
            "left": null,
            "margin": null,
            "max_height": null,
            "max_width": null,
            "min_height": null,
            "min_width": null,
            "object_fit": null,
            "object_position": null,
            "order": null,
            "overflow": null,
            "overflow_x": null,
            "overflow_y": null,
            "padding": null,
            "right": null,
            "top": null,
            "visibility": null,
            "width": null
          }
        },
        "719d3c58aaa24b0f8aa029ec27e075e4": {
          "model_module": "@jupyter-widgets/base",
          "model_name": "LayoutModel",
          "model_module_version": "1.2.0",
          "state": {
            "_model_module": "@jupyter-widgets/base",
            "_model_module_version": "1.2.0",
            "_model_name": "LayoutModel",
            "_view_count": null,
            "_view_module": "@jupyter-widgets/base",
            "_view_module_version": "1.2.0",
            "_view_name": "LayoutView",
            "align_content": null,
            "align_items": null,
            "align_self": null,
            "border": null,
            "bottom": null,
            "display": null,
            "flex": null,
            "flex_flow": null,
            "grid_area": null,
            "grid_auto_columns": null,
            "grid_auto_flow": null,
            "grid_auto_rows": null,
            "grid_column": null,
            "grid_gap": null,
            "grid_row": null,
            "grid_template_areas": null,
            "grid_template_columns": null,
            "grid_template_rows": null,
            "height": null,
            "justify_content": null,
            "justify_items": null,
            "left": null,
            "margin": null,
            "max_height": null,
            "max_width": null,
            "min_height": null,
            "min_width": null,
            "object_fit": null,
            "object_position": null,
            "order": null,
            "overflow": null,
            "overflow_x": null,
            "overflow_y": null,
            "padding": null,
            "right": null,
            "top": null,
            "visibility": null,
            "width": null
          }
        },
        "d1e4f4059b454f5a8310a26dc110602c": {
          "model_module": "@jupyter-widgets/controls",
          "model_name": "DescriptionStyleModel",
          "model_module_version": "1.5.0",
          "state": {
            "_model_module": "@jupyter-widgets/controls",
            "_model_module_version": "1.5.0",
            "_model_name": "DescriptionStyleModel",
            "_view_count": null,
            "_view_module": "@jupyter-widgets/base",
            "_view_module_version": "1.2.0",
            "_view_name": "StyleView",
            "description_width": ""
          }
        },
        "160a454c3b5446bfa3bbbd2ee6e7040c": {
          "model_module": "@jupyter-widgets/base",
          "model_name": "LayoutModel",
          "model_module_version": "1.2.0",
          "state": {
            "_model_module": "@jupyter-widgets/base",
            "_model_module_version": "1.2.0",
            "_model_name": "LayoutModel",
            "_view_count": null,
            "_view_module": "@jupyter-widgets/base",
            "_view_module_version": "1.2.0",
            "_view_name": "LayoutView",
            "align_content": null,
            "align_items": null,
            "align_self": null,
            "border": null,
            "bottom": null,
            "display": null,
            "flex": null,
            "flex_flow": null,
            "grid_area": null,
            "grid_auto_columns": null,
            "grid_auto_flow": null,
            "grid_auto_rows": null,
            "grid_column": null,
            "grid_gap": null,
            "grid_row": null,
            "grid_template_areas": null,
            "grid_template_columns": null,
            "grid_template_rows": null,
            "height": null,
            "justify_content": null,
            "justify_items": null,
            "left": null,
            "margin": null,
            "max_height": null,
            "max_width": null,
            "min_height": null,
            "min_width": null,
            "object_fit": null,
            "object_position": null,
            "order": null,
            "overflow": null,
            "overflow_x": null,
            "overflow_y": null,
            "padding": null,
            "right": null,
            "top": null,
            "visibility": null,
            "width": null
          }
        },
        "8f3e3c830f864430ab04500585c7f178": {
          "model_module": "@jupyter-widgets/controls",
          "model_name": "ProgressStyleModel",
          "model_module_version": "1.5.0",
          "state": {
            "_model_module": "@jupyter-widgets/controls",
            "_model_module_version": "1.5.0",
            "_model_name": "ProgressStyleModel",
            "_view_count": null,
            "_view_module": "@jupyter-widgets/base",
            "_view_module_version": "1.2.0",
            "_view_name": "StyleView",
            "bar_color": null,
            "description_width": ""
          }
        },
        "c09e50b8636f44959752b1693e5e113f": {
          "model_module": "@jupyter-widgets/base",
          "model_name": "LayoutModel",
          "model_module_version": "1.2.0",
          "state": {
            "_model_module": "@jupyter-widgets/base",
            "_model_module_version": "1.2.0",
            "_model_name": "LayoutModel",
            "_view_count": null,
            "_view_module": "@jupyter-widgets/base",
            "_view_module_version": "1.2.0",
            "_view_name": "LayoutView",
            "align_content": null,
            "align_items": null,
            "align_self": null,
            "border": null,
            "bottom": null,
            "display": null,
            "flex": null,
            "flex_flow": null,
            "grid_area": null,
            "grid_auto_columns": null,
            "grid_auto_flow": null,
            "grid_auto_rows": null,
            "grid_column": null,
            "grid_gap": null,
            "grid_row": null,
            "grid_template_areas": null,
            "grid_template_columns": null,
            "grid_template_rows": null,
            "height": null,
            "justify_content": null,
            "justify_items": null,
            "left": null,
            "margin": null,
            "max_height": null,
            "max_width": null,
            "min_height": null,
            "min_width": null,
            "object_fit": null,
            "object_position": null,
            "order": null,
            "overflow": null,
            "overflow_x": null,
            "overflow_y": null,
            "padding": null,
            "right": null,
            "top": null,
            "visibility": null,
            "width": null
          }
        },
        "b0a1e811990e430ab4f1347bec4e4f95": {
          "model_module": "@jupyter-widgets/controls",
          "model_name": "DescriptionStyleModel",
          "model_module_version": "1.5.0",
          "state": {
            "_model_module": "@jupyter-widgets/controls",
            "_model_module_version": "1.5.0",
            "_model_name": "DescriptionStyleModel",
            "_view_count": null,
            "_view_module": "@jupyter-widgets/base",
            "_view_module_version": "1.2.0",
            "_view_name": "StyleView",
            "description_width": ""
          }
        },
        "bdad6402cc6e4b498b5281febf0d24bd": {
          "model_module": "@jupyter-widgets/controls",
          "model_name": "HBoxModel",
          "model_module_version": "1.5.0",
          "state": {
            "_dom_classes": [],
            "_model_module": "@jupyter-widgets/controls",
            "_model_module_version": "1.5.0",
            "_model_name": "HBoxModel",
            "_view_count": null,
            "_view_module": "@jupyter-widgets/controls",
            "_view_module_version": "1.5.0",
            "_view_name": "HBoxView",
            "box_style": "",
            "children": [
              "IPY_MODEL_8136c0b7ab9242e9a12d2ff323e57e14",
              "IPY_MODEL_b8119776458f464b88a8fd5d45212e0f",
              "IPY_MODEL_e0d55649971e4461a05fec7f9fc0c916"
            ],
            "layout": "IPY_MODEL_afa7c491e86a465b80397c5ab4996793"
          }
        },
        "8136c0b7ab9242e9a12d2ff323e57e14": {
          "model_module": "@jupyter-widgets/controls",
          "model_name": "HTMLModel",
          "model_module_version": "1.5.0",
          "state": {
            "_dom_classes": [],
            "_model_module": "@jupyter-widgets/controls",
            "_model_module_version": "1.5.0",
            "_model_name": "HTMLModel",
            "_view_count": null,
            "_view_module": "@jupyter-widgets/controls",
            "_view_module_version": "1.5.0",
            "_view_name": "HTMLView",
            "description": "",
            "description_tooltip": null,
            "layout": "IPY_MODEL_aa17d59ccf2f4f29b87f8e22de2a6934",
            "placeholder": "​",
            "style": "IPY_MODEL_ce3e0c0ed43749e79c49a27d8ad8e8cb",
            "value": "model.safetensors: 100%"
          }
        },
        "b8119776458f464b88a8fd5d45212e0f": {
          "model_module": "@jupyter-widgets/controls",
          "model_name": "FloatProgressModel",
          "model_module_version": "1.5.0",
          "state": {
            "_dom_classes": [],
            "_model_module": "@jupyter-widgets/controls",
            "_model_module_version": "1.5.0",
            "_model_name": "FloatProgressModel",
            "_view_count": null,
            "_view_module": "@jupyter-widgets/controls",
            "_view_module_version": "1.5.0",
            "_view_name": "ProgressView",
            "bar_style": "success",
            "description": "",
            "description_tooltip": null,
            "layout": "IPY_MODEL_ce43c7fb93914129999c24a50789311d",
            "max": 437955512,
            "min": 0,
            "orientation": "horizontal",
            "style": "IPY_MODEL_a5ecf6552de4420ebe9c432c0bff1956",
            "value": 437955512
          }
        },
        "e0d55649971e4461a05fec7f9fc0c916": {
          "model_module": "@jupyter-widgets/controls",
          "model_name": "HTMLModel",
          "model_module_version": "1.5.0",
          "state": {
            "_dom_classes": [],
            "_model_module": "@jupyter-widgets/controls",
            "_model_module_version": "1.5.0",
            "_model_name": "HTMLModel",
            "_view_count": null,
            "_view_module": "@jupyter-widgets/controls",
            "_view_module_version": "1.5.0",
            "_view_name": "HTMLView",
            "description": "",
            "description_tooltip": null,
            "layout": "IPY_MODEL_1ca1f8b4f3a741cebb3a3293fe9eb500",
            "placeholder": "​",
            "style": "IPY_MODEL_1e78480ecb314f2f95db42abd3d3a808",
            "value": " 438M/438M [00:02&lt;00:00, 184MB/s]"
          }
        },
        "afa7c491e86a465b80397c5ab4996793": {
          "model_module": "@jupyter-widgets/base",
          "model_name": "LayoutModel",
          "model_module_version": "1.2.0",
          "state": {
            "_model_module": "@jupyter-widgets/base",
            "_model_module_version": "1.2.0",
            "_model_name": "LayoutModel",
            "_view_count": null,
            "_view_module": "@jupyter-widgets/base",
            "_view_module_version": "1.2.0",
            "_view_name": "LayoutView",
            "align_content": null,
            "align_items": null,
            "align_self": null,
            "border": null,
            "bottom": null,
            "display": null,
            "flex": null,
            "flex_flow": null,
            "grid_area": null,
            "grid_auto_columns": null,
            "grid_auto_flow": null,
            "grid_auto_rows": null,
            "grid_column": null,
            "grid_gap": null,
            "grid_row": null,
            "grid_template_areas": null,
            "grid_template_columns": null,
            "grid_template_rows": null,
            "height": null,
            "justify_content": null,
            "justify_items": null,
            "left": null,
            "margin": null,
            "max_height": null,
            "max_width": null,
            "min_height": null,
            "min_width": null,
            "object_fit": null,
            "object_position": null,
            "order": null,
            "overflow": null,
            "overflow_x": null,
            "overflow_y": null,
            "padding": null,
            "right": null,
            "top": null,
            "visibility": null,
            "width": null
          }
        },
        "aa17d59ccf2f4f29b87f8e22de2a6934": {
          "model_module": "@jupyter-widgets/base",
          "model_name": "LayoutModel",
          "model_module_version": "1.2.0",
          "state": {
            "_model_module": "@jupyter-widgets/base",
            "_model_module_version": "1.2.0",
            "_model_name": "LayoutModel",
            "_view_count": null,
            "_view_module": "@jupyter-widgets/base",
            "_view_module_version": "1.2.0",
            "_view_name": "LayoutView",
            "align_content": null,
            "align_items": null,
            "align_self": null,
            "border": null,
            "bottom": null,
            "display": null,
            "flex": null,
            "flex_flow": null,
            "grid_area": null,
            "grid_auto_columns": null,
            "grid_auto_flow": null,
            "grid_auto_rows": null,
            "grid_column": null,
            "grid_gap": null,
            "grid_row": null,
            "grid_template_areas": null,
            "grid_template_columns": null,
            "grid_template_rows": null,
            "height": null,
            "justify_content": null,
            "justify_items": null,
            "left": null,
            "margin": null,
            "max_height": null,
            "max_width": null,
            "min_height": null,
            "min_width": null,
            "object_fit": null,
            "object_position": null,
            "order": null,
            "overflow": null,
            "overflow_x": null,
            "overflow_y": null,
            "padding": null,
            "right": null,
            "top": null,
            "visibility": null,
            "width": null
          }
        },
        "ce3e0c0ed43749e79c49a27d8ad8e8cb": {
          "model_module": "@jupyter-widgets/controls",
          "model_name": "DescriptionStyleModel",
          "model_module_version": "1.5.0",
          "state": {
            "_model_module": "@jupyter-widgets/controls",
            "_model_module_version": "1.5.0",
            "_model_name": "DescriptionStyleModel",
            "_view_count": null,
            "_view_module": "@jupyter-widgets/base",
            "_view_module_version": "1.2.0",
            "_view_name": "StyleView",
            "description_width": ""
          }
        },
        "ce43c7fb93914129999c24a50789311d": {
          "model_module": "@jupyter-widgets/base",
          "model_name": "LayoutModel",
          "model_module_version": "1.2.0",
          "state": {
            "_model_module": "@jupyter-widgets/base",
            "_model_module_version": "1.2.0",
            "_model_name": "LayoutModel",
            "_view_count": null,
            "_view_module": "@jupyter-widgets/base",
            "_view_module_version": "1.2.0",
            "_view_name": "LayoutView",
            "align_content": null,
            "align_items": null,
            "align_self": null,
            "border": null,
            "bottom": null,
            "display": null,
            "flex": null,
            "flex_flow": null,
            "grid_area": null,
            "grid_auto_columns": null,
            "grid_auto_flow": null,
            "grid_auto_rows": null,
            "grid_column": null,
            "grid_gap": null,
            "grid_row": null,
            "grid_template_areas": null,
            "grid_template_columns": null,
            "grid_template_rows": null,
            "height": null,
            "justify_content": null,
            "justify_items": null,
            "left": null,
            "margin": null,
            "max_height": null,
            "max_width": null,
            "min_height": null,
            "min_width": null,
            "object_fit": null,
            "object_position": null,
            "order": null,
            "overflow": null,
            "overflow_x": null,
            "overflow_y": null,
            "padding": null,
            "right": null,
            "top": null,
            "visibility": null,
            "width": null
          }
        },
        "a5ecf6552de4420ebe9c432c0bff1956": {
          "model_module": "@jupyter-widgets/controls",
          "model_name": "ProgressStyleModel",
          "model_module_version": "1.5.0",
          "state": {
            "_model_module": "@jupyter-widgets/controls",
            "_model_module_version": "1.5.0",
            "_model_name": "ProgressStyleModel",
            "_view_count": null,
            "_view_module": "@jupyter-widgets/base",
            "_view_module_version": "1.2.0",
            "_view_name": "StyleView",
            "bar_color": null,
            "description_width": ""
          }
        },
        "1ca1f8b4f3a741cebb3a3293fe9eb500": {
          "model_module": "@jupyter-widgets/base",
          "model_name": "LayoutModel",
          "model_module_version": "1.2.0",
          "state": {
            "_model_module": "@jupyter-widgets/base",
            "_model_module_version": "1.2.0",
            "_model_name": "LayoutModel",
            "_view_count": null,
            "_view_module": "@jupyter-widgets/base",
            "_view_module_version": "1.2.0",
            "_view_name": "LayoutView",
            "align_content": null,
            "align_items": null,
            "align_self": null,
            "border": null,
            "bottom": null,
            "display": null,
            "flex": null,
            "flex_flow": null,
            "grid_area": null,
            "grid_auto_columns": null,
            "grid_auto_flow": null,
            "grid_auto_rows": null,
            "grid_column": null,
            "grid_gap": null,
            "grid_row": null,
            "grid_template_areas": null,
            "grid_template_columns": null,
            "grid_template_rows": null,
            "height": null,
            "justify_content": null,
            "justify_items": null,
            "left": null,
            "margin": null,
            "max_height": null,
            "max_width": null,
            "min_height": null,
            "min_width": null,
            "object_fit": null,
            "object_position": null,
            "order": null,
            "overflow": null,
            "overflow_x": null,
            "overflow_y": null,
            "padding": null,
            "right": null,
            "top": null,
            "visibility": null,
            "width": null
          }
        },
        "1e78480ecb314f2f95db42abd3d3a808": {
          "model_module": "@jupyter-widgets/controls",
          "model_name": "DescriptionStyleModel",
          "model_module_version": "1.5.0",
          "state": {
            "_model_module": "@jupyter-widgets/controls",
            "_model_module_version": "1.5.0",
            "_model_name": "DescriptionStyleModel",
            "_view_count": null,
            "_view_module": "@jupyter-widgets/base",
            "_view_module_version": "1.2.0",
            "_view_name": "StyleView",
            "description_width": ""
          }
        }
      }
    }
  },
  "nbformat": 4,
  "nbformat_minor": 0
}