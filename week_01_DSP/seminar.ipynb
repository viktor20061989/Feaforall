{
  "cells": [
    {
      "cell_type": "markdown",
      "metadata": {
        "cellId": "m1gy7yaekrok91zvi3zkk",
        "execution_id": "158cfe18-9248-4dd8-9d43-ada4b21f9126",
        "jupyter": {
          "outputs_hidden": false
        },
        "id": "mokoiSctrIsM"
      },
      "source": [
        "# Digital Signal Processing (DSP)\n",
        "\n",
        "## Seminar"
      ]
    },
    {
      "cell_type": "markdown",
      "metadata": {
        "cellId": "znc13x53t900h6ur90y3e1",
        "id": "QD8Wzer1rIsO"
      },
      "source": [
        "Acknowledgement: this notebook is inspired by speech course from Andrei Malinin"
      ]
    },
    {
      "cell_type": "markdown",
      "metadata": {
        "id": "A4BD-8rGrIsP"
      },
      "source": [
        "The contest is available by the link: `<TBD>`"
      ]
    },
    {
      "cell_type": "code",
      "execution_count": 1,
      "metadata": {
        "cellId": "1ycxhfwj7bulu4tx37uut",
        "id": "PZw02kx-rIsP",
        "outputId": "9588021e-58b9-4104-f7c0-20f66252bf51",
        "colab": {
          "base_uri": "https://localhost:8080/"
        }
      },
      "outputs": [
        {
          "output_type": "stream",
          "name": "stdout",
          "text": [
            "Requirement already satisfied: librosa in /usr/local/lib/python3.11/dist-packages (0.10.2.post1)\n",
            "Requirement already satisfied: numpy in /usr/local/lib/python3.11/dist-packages (1.26.4)\n",
            "Requirement already satisfied: matplotlib in /usr/local/lib/python3.11/dist-packages (3.10.0)\n",
            "Requirement already satisfied: scipy in /usr/local/lib/python3.11/dist-packages (1.13.1)\n",
            "Requirement already satisfied: audioread>=2.1.9 in /usr/local/lib/python3.11/dist-packages (from librosa) (3.0.1)\n",
            "Requirement already satisfied: scikit-learn>=0.20.0 in /usr/local/lib/python3.11/dist-packages (from librosa) (1.6.1)\n",
            "Requirement already satisfied: joblib>=0.14 in /usr/local/lib/python3.11/dist-packages (from librosa) (1.4.2)\n",
            "Requirement already satisfied: decorator>=4.3.0 in /usr/local/lib/python3.11/dist-packages (from librosa) (4.4.2)\n",
            "Requirement already satisfied: numba>=0.51.0 in /usr/local/lib/python3.11/dist-packages (from librosa) (0.61.0)\n",
            "Requirement already satisfied: soundfile>=0.12.1 in /usr/local/lib/python3.11/dist-packages (from librosa) (0.13.1)\n",
            "Requirement already satisfied: pooch>=1.1 in /usr/local/lib/python3.11/dist-packages (from librosa) (1.8.2)\n",
            "Requirement already satisfied: soxr>=0.3.2 in /usr/local/lib/python3.11/dist-packages (from librosa) (0.5.0.post1)\n",
            "Requirement already satisfied: typing-extensions>=4.1.1 in /usr/local/lib/python3.11/dist-packages (from librosa) (4.12.2)\n",
            "Requirement already satisfied: lazy-loader>=0.1 in /usr/local/lib/python3.11/dist-packages (from librosa) (0.4)\n",
            "Requirement already satisfied: msgpack>=1.0 in /usr/local/lib/python3.11/dist-packages (from librosa) (1.1.0)\n",
            "Requirement already satisfied: contourpy>=1.0.1 in /usr/local/lib/python3.11/dist-packages (from matplotlib) (1.3.1)\n",
            "Requirement already satisfied: cycler>=0.10 in /usr/local/lib/python3.11/dist-packages (from matplotlib) (0.12.1)\n",
            "Requirement already satisfied: fonttools>=4.22.0 in /usr/local/lib/python3.11/dist-packages (from matplotlib) (4.56.0)\n",
            "Requirement already satisfied: kiwisolver>=1.3.1 in /usr/local/lib/python3.11/dist-packages (from matplotlib) (1.4.8)\n",
            "Requirement already satisfied: packaging>=20.0 in /usr/local/lib/python3.11/dist-packages (from matplotlib) (24.2)\n",
            "Requirement already satisfied: pillow>=8 in /usr/local/lib/python3.11/dist-packages (from matplotlib) (11.1.0)\n",
            "Requirement already satisfied: pyparsing>=2.3.1 in /usr/local/lib/python3.11/dist-packages (from matplotlib) (3.2.1)\n",
            "Requirement already satisfied: python-dateutil>=2.7 in /usr/local/lib/python3.11/dist-packages (from matplotlib) (2.8.2)\n",
            "Requirement already satisfied: llvmlite<0.45,>=0.44.0dev0 in /usr/local/lib/python3.11/dist-packages (from numba>=0.51.0->librosa) (0.44.0)\n",
            "Requirement already satisfied: platformdirs>=2.5.0 in /usr/local/lib/python3.11/dist-packages (from pooch>=1.1->librosa) (4.3.6)\n",
            "Requirement already satisfied: requests>=2.19.0 in /usr/local/lib/python3.11/dist-packages (from pooch>=1.1->librosa) (2.32.3)\n",
            "Requirement already satisfied: six>=1.5 in /usr/local/lib/python3.11/dist-packages (from python-dateutil>=2.7->matplotlib) (1.17.0)\n",
            "Requirement already satisfied: threadpoolctl>=3.1.0 in /usr/local/lib/python3.11/dist-packages (from scikit-learn>=0.20.0->librosa) (3.5.0)\n",
            "Requirement already satisfied: cffi>=1.0 in /usr/local/lib/python3.11/dist-packages (from soundfile>=0.12.1->librosa) (1.17.1)\n",
            "Requirement already satisfied: pycparser in /usr/local/lib/python3.11/dist-packages (from cffi>=1.0->soundfile>=0.12.1->librosa) (2.22)\n",
            "Requirement already satisfied: charset-normalizer<4,>=2 in /usr/local/lib/python3.11/dist-packages (from requests>=2.19.0->pooch>=1.1->librosa) (3.4.1)\n",
            "Requirement already satisfied: idna<4,>=2.5 in /usr/local/lib/python3.11/dist-packages (from requests>=2.19.0->pooch>=1.1->librosa) (3.10)\n",
            "Requirement already satisfied: urllib3<3,>=1.21.1 in /usr/local/lib/python3.11/dist-packages (from requests>=2.19.0->pooch>=1.1->librosa) (2.3.0)\n",
            "Requirement already satisfied: certifi>=2017.4.17 in /usr/local/lib/python3.11/dist-packages (from requests>=2.19.0->pooch>=1.1->librosa) (2025.1.31)\n"
          ]
        }
      ],
      "source": [
        "%pip install librosa numpy matplotlib scipy"
      ]
    },
    {
      "cell_type": "code",
      "execution_count": 2,
      "metadata": {
        "ExecuteTime": {
          "end_time": "2023-09-16T07:41:36.608247Z",
          "start_time": "2023-09-16T07:41:36.575732Z"
        },
        "cellId": "w6cjps656jmlyt01x1q3i7",
        "jupyter": {
          "outputs_hidden": false
        },
        "id": "csGKsJzIrIsQ"
      },
      "outputs": [],
      "source": [
        "from pathlib import Path\n",
        "\n",
        "from IPython.display import display, Audio"
      ]
    },
    {
      "cell_type": "code",
      "execution_count": 3,
      "metadata": {
        "ExecuteTime": {
          "end_time": "2023-09-16T08:21:32.708191Z",
          "start_time": "2023-09-16T08:21:32.676383Z"
        },
        "cellId": "c5i3yvpvtkb5xgfl3huw38",
        "jupyter": {
          "outputs_hidden": false
        },
        "id": "IofLMicDrIsQ"
      },
      "outputs": [],
      "source": [
        "%load_ext autoreload\n",
        "%autoreload 2\n",
        "%matplotlib inline\n",
        "\n",
        "from plotting_utils import *\n",
        "from transforms import *\n",
        "from tests import *\n",
        "from utils import *"
      ]
    },
    {
      "cell_type": "code",
      "execution_count": 4,
      "metadata": {
        "ExecuteTime": {
          "end_time": "2023-09-16T08:21:32.968239Z",
          "start_time": "2023-09-16T08:21:32.941961Z"
        },
        "cellId": "2871rgjeob5ns6u7za18z",
        "jupyter": {
          "outputs_hidden": false
        },
        "id": "G56gXVP_rIsR"
      },
      "outputs": [],
      "source": [
        "sample_rate = 22050\n",
        "data_path = Path(\"../data\")\n",
        "seminar_name = \"01_DSP\"\n",
        "samples_path = data_path / seminar_name / \"examples\""
      ]
    },
    {
      "cell_type": "markdown",
      "metadata": {
        "id": "n00koG0lrIsR"
      },
      "source": [
        "To download the required files, uncomment the following line."
      ]
    },
    {
      "cell_type": "code",
      "execution_count": 5,
      "metadata": {
        "cellId": "9ol0yirp2bc5cc0r7ly2k5",
        "id": "MP8e3nuurIsS",
        "outputId": "593eff87-6c2a-48d4-a27f-7834c9da2c08",
        "colab": {
          "base_uri": "https://localhost:8080/"
        }
      },
      "outputs": [
        {
          "output_type": "stream",
          "name": "stdout",
          "text": [
            "Archive:  ./data/01_DSP.zip\n",
            "   creating: ./data/01_DSP/\n",
            "  inflating: ./data/01_DSP/sample_44kHz.wav  \n",
            "   creating: ./data/01_DSP/seminar_tests/\n",
            "   creating: ./data/01_DSP/seminar_tests/hann/\n",
            "  inflating: ./data/01_DSP/seminar_tests/hann/01.pkl  \n",
            "  inflating: ./data/01_DSP/seminar_tests/hann/08.pkl  \n",
            "  inflating: ./data/01_DSP/seminar_tests/hann/02.pkl  \n",
            "  inflating: ./data/01_DSP/seminar_tests/hann/04.pkl  \n",
            "  inflating: ./data/01_DSP/seminar_tests/hann/03.pkl  \n",
            "  inflating: ./data/01_DSP/seminar_tests/hann/05.pkl  \n",
            "  inflating: ./data/01_DSP/seminar_tests/hann/07.pkl  \n",
            "  inflating: ./data/01_DSP/seminar_tests/hann/00.pkl  \n",
            "  inflating: ./data/01_DSP/seminar_tests/hann/09.pkl  \n",
            "  inflating: ./data/01_DSP/seminar_tests/hann/06.pkl  \n",
            "   creating: ./data/01_DSP/seminar_tests/mel/\n",
            "  inflating: ./data/01_DSP/seminar_tests/mel/01.pkl  \n",
            "  inflating: ./data/01_DSP/seminar_tests/mel/08.pkl  \n",
            "  inflating: ./data/01_DSP/seminar_tests/mel/02.pkl  \n",
            "  inflating: ./data/01_DSP/seminar_tests/mel/04.pkl  \n",
            "  inflating: ./data/01_DSP/seminar_tests/mel/03.pkl  \n",
            "  inflating: ./data/01_DSP/seminar_tests/mel/05.pkl  \n",
            "  inflating: ./data/01_DSP/seminar_tests/mel/07.pkl  \n",
            "  inflating: ./data/01_DSP/seminar_tests/mel/00.pkl  \n",
            "  inflating: ./data/01_DSP/seminar_tests/mel/09.pkl  \n",
            "  inflating: ./data/01_DSP/seminar_tests/mel/06.pkl  \n",
            "   creating: ./data/01_DSP/seminar_tests/dft/\n",
            "  inflating: ./data/01_DSP/seminar_tests/dft/01.pkl  \n",
            "  inflating: ./data/01_DSP/seminar_tests/dft/08.pkl  \n",
            "  inflating: ./data/01_DSP/seminar_tests/dft/02.pkl  \n",
            "  inflating: ./data/01_DSP/seminar_tests/dft/04.pkl  \n",
            "  inflating: ./data/01_DSP/seminar_tests/dft/03.pkl  \n",
            "  inflating: ./data/01_DSP/seminar_tests/dft/05.pkl  \n",
            "  inflating: ./data/01_DSP/seminar_tests/dft/07.pkl  \n",
            "  inflating: ./data/01_DSP/seminar_tests/dft/00.pkl  \n",
            "  inflating: ./data/01_DSP/seminar_tests/dft/09.pkl  \n",
            "  inflating: ./data/01_DSP/seminar_tests/dft/06.pkl  \n",
            "   creating: ./data/01_DSP/seminar_tests/windowing/\n",
            "  inflating: ./data/01_DSP/seminar_tests/windowing/01.pkl  \n",
            "  inflating: ./data/01_DSP/seminar_tests/windowing/08.pkl  \n",
            "  inflating: ./data/01_DSP/seminar_tests/windowing/02.pkl  \n",
            "  inflating: ./data/01_DSP/seminar_tests/windowing/04.pkl  \n",
            "  inflating: ./data/01_DSP/seminar_tests/windowing/03.pkl  \n",
            "  inflating: ./data/01_DSP/seminar_tests/windowing/05.pkl  \n",
            "  inflating: ./data/01_DSP/seminar_tests/windowing/07.pkl  \n",
            "  inflating: ./data/01_DSP/seminar_tests/windowing/00.pkl  \n",
            "  inflating: ./data/01_DSP/seminar_tests/windowing/09.pkl  \n",
            "  inflating: ./data/01_DSP/seminar_tests/windowing/06.pkl  \n",
            "   creating: ./data/01_DSP/examples/\n",
            "  inflating: ./data/01_DSP/examples/nirvana.wav  \n",
            "  inflating: ./data/01_DSP/examples/.DS_Store  \n",
            "  inflating: ./data/01_DSP/examples/makima.wav  \n",
            "  inflating: ./data/01_DSP/examples/eminem.wav  \n",
            "  inflating: ./data/01_DSP/examples/diesel.wav  \n",
            "  inflating: ./data/01_DSP/examples/babenko.wav  \n",
            "  inflating: ./data/01_DSP/examples/mozart.wav  \n",
            "   creating: ./data/01_DSP/homework_tests/\n",
            "   creating: ./data/01_DSP/homework_tests/TimeReverse/\n",
            "   creating: ./data/01_DSP/homework_tests/TimeReverse/kwargs_/\n",
            "  inflating: ./data/01_DSP/homework_tests/TimeReverse/kwargs_/01.pkl  \n",
            "  inflating: ./data/01_DSP/homework_tests/TimeReverse/kwargs_/08.pkl  \n",
            "  inflating: ./data/01_DSP/homework_tests/TimeReverse/kwargs_/02.pkl  \n",
            "  inflating: ./data/01_DSP/homework_tests/TimeReverse/kwargs_/04.pkl  \n",
            "  inflating: ./data/01_DSP/homework_tests/TimeReverse/kwargs_/03.pkl  \n",
            "  inflating: ./data/01_DSP/homework_tests/TimeReverse/kwargs_/05.pkl  \n",
            "  inflating: ./data/01_DSP/homework_tests/TimeReverse/kwargs_/07.pkl  \n",
            "  inflating: ./data/01_DSP/homework_tests/TimeReverse/kwargs_/00.pkl  \n",
            "  inflating: ./data/01_DSP/homework_tests/TimeReverse/kwargs_/09.pkl  \n",
            "  inflating: ./data/01_DSP/homework_tests/TimeReverse/kwargs_/06.pkl  \n",
            "   creating: ./data/01_DSP/homework_tests/Loudness/\n",
            "   creating: ./data/01_DSP/homework_tests/Loudness/kwargs_loudness_factor=0.5/\n",
            "  inflating: ./data/01_DSP/homework_tests/Loudness/kwargs_loudness_factor=0.5/01.pkl  \n",
            "  inflating: ./data/01_DSP/homework_tests/Loudness/kwargs_loudness_factor=0.5/08.pkl  \n",
            "  inflating: ./data/01_DSP/homework_tests/Loudness/kwargs_loudness_factor=0.5/02.pkl  \n",
            "  inflating: ./data/01_DSP/homework_tests/Loudness/kwargs_loudness_factor=0.5/04.pkl  \n",
            "  inflating: ./data/01_DSP/homework_tests/Loudness/kwargs_loudness_factor=0.5/03.pkl  \n",
            "  inflating: ./data/01_DSP/homework_tests/Loudness/kwargs_loudness_factor=0.5/05.pkl  \n",
            "  inflating: ./data/01_DSP/homework_tests/Loudness/kwargs_loudness_factor=0.5/07.pkl  \n",
            "  inflating: ./data/01_DSP/homework_tests/Loudness/kwargs_loudness_factor=0.5/00.pkl  \n",
            "  inflating: ./data/01_DSP/homework_tests/Loudness/kwargs_loudness_factor=0.5/09.pkl  \n",
            "  inflating: ./data/01_DSP/homework_tests/Loudness/kwargs_loudness_factor=0.5/06.pkl  \n",
            "   creating: ./data/01_DSP/homework_tests/Loudness/kwargs_loudness_factor=2.0/\n",
            "  inflating: ./data/01_DSP/homework_tests/Loudness/kwargs_loudness_factor=2.0/01.pkl  \n",
            "  inflating: ./data/01_DSP/homework_tests/Loudness/kwargs_loudness_factor=2.0/08.pkl  \n",
            "  inflating: ./data/01_DSP/homework_tests/Loudness/kwargs_loudness_factor=2.0/02.pkl  \n",
            "  inflating: ./data/01_DSP/homework_tests/Loudness/kwargs_loudness_factor=2.0/04.pkl  \n",
            "  inflating: ./data/01_DSP/homework_tests/Loudness/kwargs_loudness_factor=2.0/03.pkl  \n",
            "  inflating: ./data/01_DSP/homework_tests/Loudness/kwargs_loudness_factor=2.0/05.pkl  \n",
            "  inflating: ./data/01_DSP/homework_tests/Loudness/kwargs_loudness_factor=2.0/07.pkl  \n",
            "  inflating: ./data/01_DSP/homework_tests/Loudness/kwargs_loudness_factor=2.0/00.pkl  \n",
            "  inflating: ./data/01_DSP/homework_tests/Loudness/kwargs_loudness_factor=2.0/09.pkl  \n",
            "  inflating: ./data/01_DSP/homework_tests/Loudness/kwargs_loudness_factor=2.0/06.pkl  \n",
            "   creating: ./data/01_DSP/homework_tests/WeakFrequenciesRemoval/\n",
            "   creating: ./data/01_DSP/homework_tests/WeakFrequenciesRemoval/kwargs_quantile=0.9/\n",
            "  inflating: ./data/01_DSP/homework_tests/WeakFrequenciesRemoval/kwargs_quantile=0.9/01.pkl  \n",
            "  inflating: ./data/01_DSP/homework_tests/WeakFrequenciesRemoval/kwargs_quantile=0.9/08.pkl  \n",
            "  inflating: ./data/01_DSP/homework_tests/WeakFrequenciesRemoval/kwargs_quantile=0.9/02.pkl  \n",
            "  inflating: ./data/01_DSP/homework_tests/WeakFrequenciesRemoval/kwargs_quantile=0.9/04.pkl  \n",
            "  inflating: ./data/01_DSP/homework_tests/WeakFrequenciesRemoval/kwargs_quantile=0.9/03.pkl  \n",
            "  inflating: ./data/01_DSP/homework_tests/WeakFrequenciesRemoval/kwargs_quantile=0.9/05.pkl  \n",
            "  inflating: ./data/01_DSP/homework_tests/WeakFrequenciesRemoval/kwargs_quantile=0.9/07.pkl  \n",
            "  inflating: ./data/01_DSP/homework_tests/WeakFrequenciesRemoval/kwargs_quantile=0.9/00.pkl  \n",
            "  inflating: ./data/01_DSP/homework_tests/WeakFrequenciesRemoval/kwargs_quantile=0.9/09.pkl  \n",
            "  inflating: ./data/01_DSP/homework_tests/WeakFrequenciesRemoval/kwargs_quantile=0.9/06.pkl  \n",
            "   creating: ./data/01_DSP/homework_tests/WeakFrequenciesRemoval/kwargs_quantile=0.99/\n",
            "  inflating: ./data/01_DSP/homework_tests/WeakFrequenciesRemoval/kwargs_quantile=0.99/01.pkl  \n",
            "  inflating: ./data/01_DSP/homework_tests/WeakFrequenciesRemoval/kwargs_quantile=0.99/08.pkl  \n",
            "  inflating: ./data/01_DSP/homework_tests/WeakFrequenciesRemoval/kwargs_quantile=0.99/02.pkl  \n",
            "  inflating: ./data/01_DSP/homework_tests/WeakFrequenciesRemoval/kwargs_quantile=0.99/04.pkl  \n",
            "  inflating: ./data/01_DSP/homework_tests/WeakFrequenciesRemoval/kwargs_quantile=0.99/03.pkl  \n",
            "  inflating: ./data/01_DSP/homework_tests/WeakFrequenciesRemoval/kwargs_quantile=0.99/05.pkl  \n",
            "  inflating: ./data/01_DSP/homework_tests/WeakFrequenciesRemoval/kwargs_quantile=0.99/07.pkl  \n",
            "  inflating: ./data/01_DSP/homework_tests/WeakFrequenciesRemoval/kwargs_quantile=0.99/00.pkl  \n",
            "  inflating: ./data/01_DSP/homework_tests/WeakFrequenciesRemoval/kwargs_quantile=0.99/09.pkl  \n",
            "  inflating: ./data/01_DSP/homework_tests/WeakFrequenciesRemoval/kwargs_quantile=0.99/06.pkl  \n",
            "   creating: ./data/01_DSP/homework_tests/SpeedUpDown/\n",
            "   creating: ./data/01_DSP/homework_tests/SpeedUpDown/kwargs_speed_up_factor=0.5/\n",
            "  inflating: ./data/01_DSP/homework_tests/SpeedUpDown/kwargs_speed_up_factor=0.5/01.pkl  \n",
            "  inflating: ./data/01_DSP/homework_tests/SpeedUpDown/kwargs_speed_up_factor=0.5/08.pkl  \n",
            "  inflating: ./data/01_DSP/homework_tests/SpeedUpDown/kwargs_speed_up_factor=0.5/02.pkl  \n",
            "  inflating: ./data/01_DSP/homework_tests/SpeedUpDown/kwargs_speed_up_factor=0.5/04.pkl  \n",
            "  inflating: ./data/01_DSP/homework_tests/SpeedUpDown/kwargs_speed_up_factor=0.5/03.pkl  \n",
            "  inflating: ./data/01_DSP/homework_tests/SpeedUpDown/kwargs_speed_up_factor=0.5/05.pkl  \n",
            "  inflating: ./data/01_DSP/homework_tests/SpeedUpDown/kwargs_speed_up_factor=0.5/07.pkl  \n",
            "  inflating: ./data/01_DSP/homework_tests/SpeedUpDown/kwargs_speed_up_factor=0.5/00.pkl  \n",
            "  inflating: ./data/01_DSP/homework_tests/SpeedUpDown/kwargs_speed_up_factor=0.5/09.pkl  \n",
            "  inflating: ./data/01_DSP/homework_tests/SpeedUpDown/kwargs_speed_up_factor=0.5/06.pkl  \n",
            "   creating: ./data/01_DSP/homework_tests/SpeedUpDown/kwargs_speed_up_factor=0.8/\n",
            "  inflating: ./data/01_DSP/homework_tests/SpeedUpDown/kwargs_speed_up_factor=0.8/01.pkl  \n",
            "  inflating: ./data/01_DSP/homework_tests/SpeedUpDown/kwargs_speed_up_factor=0.8/08.pkl  \n",
            "  inflating: ./data/01_DSP/homework_tests/SpeedUpDown/kwargs_speed_up_factor=0.8/02.pkl  \n",
            "  inflating: ./data/01_DSP/homework_tests/SpeedUpDown/kwargs_speed_up_factor=0.8/04.pkl  \n",
            "  inflating: ./data/01_DSP/homework_tests/SpeedUpDown/kwargs_speed_up_factor=0.8/03.pkl  \n",
            "  inflating: ./data/01_DSP/homework_tests/SpeedUpDown/kwargs_speed_up_factor=0.8/05.pkl  \n",
            "  inflating: ./data/01_DSP/homework_tests/SpeedUpDown/kwargs_speed_up_factor=0.8/07.pkl  \n",
            "  inflating: ./data/01_DSP/homework_tests/SpeedUpDown/kwargs_speed_up_factor=0.8/00.pkl  \n",
            "  inflating: ./data/01_DSP/homework_tests/SpeedUpDown/kwargs_speed_up_factor=0.8/09.pkl  \n",
            "  inflating: ./data/01_DSP/homework_tests/SpeedUpDown/kwargs_speed_up_factor=0.8/06.pkl  \n",
            "   creating: ./data/01_DSP/homework_tests/SpeedUpDown/kwargs_speed_up_factor=1.2/\n",
            "  inflating: ./data/01_DSP/homework_tests/SpeedUpDown/kwargs_speed_up_factor=1.2/01.pkl  \n",
            "  inflating: ./data/01_DSP/homework_tests/SpeedUpDown/kwargs_speed_up_factor=1.2/08.pkl  \n",
            "  inflating: ./data/01_DSP/homework_tests/SpeedUpDown/kwargs_speed_up_factor=1.2/02.pkl  \n",
            "  inflating: ./data/01_DSP/homework_tests/SpeedUpDown/kwargs_speed_up_factor=1.2/04.pkl  \n",
            "  inflating: ./data/01_DSP/homework_tests/SpeedUpDown/kwargs_speed_up_factor=1.2/03.pkl  \n",
            "  inflating: ./data/01_DSP/homework_tests/SpeedUpDown/kwargs_speed_up_factor=1.2/05.pkl  \n",
            "  inflating: ./data/01_DSP/homework_tests/SpeedUpDown/kwargs_speed_up_factor=1.2/07.pkl  \n",
            "  inflating: ./data/01_DSP/homework_tests/SpeedUpDown/kwargs_speed_up_factor=1.2/00.pkl  \n",
            "  inflating: ./data/01_DSP/homework_tests/SpeedUpDown/kwargs_speed_up_factor=1.2/09.pkl  \n",
            "  inflating: ./data/01_DSP/homework_tests/SpeedUpDown/kwargs_speed_up_factor=1.2/06.pkl  \n",
            "   creating: ./data/01_DSP/homework_tests/SpeedUpDown/kwargs_speed_up_factor=2.0/\n",
            "  inflating: ./data/01_DSP/homework_tests/SpeedUpDown/kwargs_speed_up_factor=2.0/01.pkl  \n",
            "  inflating: ./data/01_DSP/homework_tests/SpeedUpDown/kwargs_speed_up_factor=2.0/08.pkl  \n",
            "  inflating: ./data/01_DSP/homework_tests/SpeedUpDown/kwargs_speed_up_factor=2.0/02.pkl  \n",
            "  inflating: ./data/01_DSP/homework_tests/SpeedUpDown/kwargs_speed_up_factor=2.0/04.pkl  \n",
            "  inflating: ./data/01_DSP/homework_tests/SpeedUpDown/kwargs_speed_up_factor=2.0/03.pkl  \n",
            "  inflating: ./data/01_DSP/homework_tests/SpeedUpDown/kwargs_speed_up_factor=2.0/05.pkl  \n",
            "  inflating: ./data/01_DSP/homework_tests/SpeedUpDown/kwargs_speed_up_factor=2.0/07.pkl  \n",
            "  inflating: ./data/01_DSP/homework_tests/SpeedUpDown/kwargs_speed_up_factor=2.0/00.pkl  \n",
            "  inflating: ./data/01_DSP/homework_tests/SpeedUpDown/kwargs_speed_up_factor=2.0/09.pkl  \n",
            "  inflating: ./data/01_DSP/homework_tests/SpeedUpDown/kwargs_speed_up_factor=2.0/06.pkl  \n",
            "   creating: ./data/01_DSP/homework_tests/PitchUp/\n",
            "   creating: ./data/01_DSP/homework_tests/PitchUp/kwargs_num_mels_up=5/\n",
            "  inflating: ./data/01_DSP/homework_tests/PitchUp/kwargs_num_mels_up=5/01.pkl  \n",
            "  inflating: ./data/01_DSP/homework_tests/PitchUp/kwargs_num_mels_up=5/08.pkl  \n",
            "  inflating: ./data/01_DSP/homework_tests/PitchUp/kwargs_num_mels_up=5/02.pkl  \n",
            "  inflating: ./data/01_DSP/homework_tests/PitchUp/kwargs_num_mels_up=5/04.pkl  \n",
            "  inflating: ./data/01_DSP/homework_tests/PitchUp/kwargs_num_mels_up=5/03.pkl  \n",
            "  inflating: ./data/01_DSP/homework_tests/PitchUp/kwargs_num_mels_up=5/05.pkl  \n",
            "  inflating: ./data/01_DSP/homework_tests/PitchUp/kwargs_num_mels_up=5/07.pkl  \n",
            "  inflating: ./data/01_DSP/homework_tests/PitchUp/kwargs_num_mels_up=5/00.pkl  \n",
            "  inflating: ./data/01_DSP/homework_tests/PitchUp/kwargs_num_mels_up=5/09.pkl  \n",
            "  inflating: ./data/01_DSP/homework_tests/PitchUp/kwargs_num_mels_up=5/06.pkl  \n",
            "   creating: ./data/01_DSP/homework_tests/PitchUp/kwargs_num_mels_up=10/\n",
            "  inflating: ./data/01_DSP/homework_tests/PitchUp/kwargs_num_mels_up=10/01.pkl  \n",
            "  inflating: ./data/01_DSP/homework_tests/PitchUp/kwargs_num_mels_up=10/08.pkl  \n",
            "  inflating: ./data/01_DSP/homework_tests/PitchUp/kwargs_num_mels_up=10/02.pkl  \n",
            "  inflating: ./data/01_DSP/homework_tests/PitchUp/kwargs_num_mels_up=10/04.pkl  \n",
            "  inflating: ./data/01_DSP/homework_tests/PitchUp/kwargs_num_mels_up=10/03.pkl  \n",
            "  inflating: ./data/01_DSP/homework_tests/PitchUp/kwargs_num_mels_up=10/05.pkl  \n",
            "  inflating: ./data/01_DSP/homework_tests/PitchUp/kwargs_num_mels_up=10/07.pkl  \n",
            "  inflating: ./data/01_DSP/homework_tests/PitchUp/kwargs_num_mels_up=10/00.pkl  \n",
            "  inflating: ./data/01_DSP/homework_tests/PitchUp/kwargs_num_mels_up=10/09.pkl  \n",
            "  inflating: ./data/01_DSP/homework_tests/PitchUp/kwargs_num_mels_up=10/06.pkl  \n",
            "   creating: ./data/01_DSP/homework_tests/PitchDown/\n",
            "   creating: ./data/01_DSP/homework_tests/PitchDown/kwargs_num_mels_down=5/\n",
            "  inflating: ./data/01_DSP/homework_tests/PitchDown/kwargs_num_mels_down=5/01.pkl  \n",
            "  inflating: ./data/01_DSP/homework_tests/PitchDown/kwargs_num_mels_down=5/08.pkl  \n",
            "  inflating: ./data/01_DSP/homework_tests/PitchDown/kwargs_num_mels_down=5/02.pkl  \n",
            "  inflating: ./data/01_DSP/homework_tests/PitchDown/kwargs_num_mels_down=5/04.pkl  \n",
            "  inflating: ./data/01_DSP/homework_tests/PitchDown/kwargs_num_mels_down=5/03.pkl  \n",
            "  inflating: ./data/01_DSP/homework_tests/PitchDown/kwargs_num_mels_down=5/05.pkl  \n",
            "  inflating: ./data/01_DSP/homework_tests/PitchDown/kwargs_num_mels_down=5/07.pkl  \n",
            "  inflating: ./data/01_DSP/homework_tests/PitchDown/kwargs_num_mels_down=5/00.pkl  \n",
            "  inflating: ./data/01_DSP/homework_tests/PitchDown/kwargs_num_mels_down=5/09.pkl  \n",
            "  inflating: ./data/01_DSP/homework_tests/PitchDown/kwargs_num_mels_down=5/06.pkl  \n",
            "   creating: ./data/01_DSP/homework_tests/PitchDown/kwargs_num_mels_down=10/\n",
            "  inflating: ./data/01_DSP/homework_tests/PitchDown/kwargs_num_mels_down=10/01.pkl  \n",
            "  inflating: ./data/01_DSP/homework_tests/PitchDown/kwargs_num_mels_down=10/08.pkl  \n",
            "  inflating: ./data/01_DSP/homework_tests/PitchDown/kwargs_num_mels_down=10/02.pkl  \n",
            "  inflating: ./data/01_DSP/homework_tests/PitchDown/kwargs_num_mels_down=10/04.pkl  \n",
            "  inflating: ./data/01_DSP/homework_tests/PitchDown/kwargs_num_mels_down=10/03.pkl  \n",
            "  inflating: ./data/01_DSP/homework_tests/PitchDown/kwargs_num_mels_down=10/05.pkl  \n",
            "  inflating: ./data/01_DSP/homework_tests/PitchDown/kwargs_num_mels_down=10/07.pkl  \n",
            "  inflating: ./data/01_DSP/homework_tests/PitchDown/kwargs_num_mels_down=10/00.pkl  \n",
            "  inflating: ./data/01_DSP/homework_tests/PitchDown/kwargs_num_mels_down=10/09.pkl  \n",
            "  inflating: ./data/01_DSP/homework_tests/PitchDown/kwargs_num_mels_down=10/06.pkl  \n",
            "   creating: ./data/01_DSP/homework_tests/FrequenciesSwap/\n",
            "   creating: ./data/01_DSP/homework_tests/FrequenciesSwap/kwargs_/\n",
            "  inflating: ./data/01_DSP/homework_tests/FrequenciesSwap/kwargs_/01.pkl  \n",
            "  inflating: ./data/01_DSP/homework_tests/FrequenciesSwap/kwargs_/08.pkl  \n",
            "  inflating: ./data/01_DSP/homework_tests/FrequenciesSwap/kwargs_/02.pkl  \n",
            "  inflating: ./data/01_DSP/homework_tests/FrequenciesSwap/kwargs_/04.pkl  \n",
            "  inflating: ./data/01_DSP/homework_tests/FrequenciesSwap/kwargs_/03.pkl  \n",
            "  inflating: ./data/01_DSP/homework_tests/FrequenciesSwap/kwargs_/05.pkl  \n",
            "  inflating: ./data/01_DSP/homework_tests/FrequenciesSwap/kwargs_/07.pkl  \n",
            "  inflating: ./data/01_DSP/homework_tests/FrequenciesSwap/kwargs_/00.pkl  \n",
            "  inflating: ./data/01_DSP/homework_tests/FrequenciesSwap/kwargs_/09.pkl  \n",
            "  inflating: ./data/01_DSP/homework_tests/FrequenciesSwap/kwargs_/06.pkl  \n"
          ]
        }
      ],
      "source": [
        "!mkdir -p ./data\n",
        "link_to_archive = \"https://disk.yandex.ru/d/uV1jDE4Ku5KMuw\"\n",
        "download_file(link_to_archive, \"./data/01_DSP.zip\")\n",
        "!unzip ./data/01_DSP.zip -d ./data\n",
        "!rm ./data/01_DSP.zip"
      ]
    },
    {
      "cell_type": "code",
      "execution_count": 6,
      "metadata": {
        "cellId": "8z7mqaitn5k15l8we17hhi",
        "id": "oMjYuGBjrIsT",
        "outputId": "bbfffcf5-1b43-4e60-dc55-11fb207e9a0c",
        "colab": {
          "base_uri": "https://localhost:8080/",
          "height": 346
        }
      },
      "outputs": [
        {
          "output_type": "error",
          "ename": "FileNotFoundError",
          "evalue": "[Errno 2] No such file or directory: '../data/01_DSP/examples'",
          "traceback": [
            "\u001b[0;31m---------------------------------------------------------------------------\u001b[0m",
            "\u001b[0;31mFileNotFoundError\u001b[0m                         Traceback (most recent call last)",
            "\u001b[0;32m<ipython-input-6-541068c3956b>\u001b[0m in \u001b[0;36m<cell line: 0>\u001b[0;34m()\u001b[0m\n\u001b[1;32m     10\u001b[0m     \u001b[0;32mreturn\u001b[0m \u001b[0mexamples\u001b[0m\u001b[0;34m\u001b[0m\u001b[0;34m\u001b[0m\u001b[0m\n\u001b[1;32m     11\u001b[0m \u001b[0;34m\u001b[0m\u001b[0m\n\u001b[0;32m---> 12\u001b[0;31m \u001b[0mexamples\u001b[0m \u001b[0;34m=\u001b[0m \u001b[0mcreate_examples_dict\u001b[0m\u001b[0;34m(\u001b[0m\u001b[0mdirectory\u001b[0m\u001b[0;34m=\u001b[0m\u001b[0msamples_path\u001b[0m\u001b[0;34m)\u001b[0m\u001b[0;34m\u001b[0m\u001b[0;34m\u001b[0m\u001b[0m\n\u001b[0m\u001b[1;32m     13\u001b[0m \u001b[0mwav\u001b[0m \u001b[0;34m=\u001b[0m \u001b[0mexamples\u001b[0m\u001b[0;34m[\u001b[0m\u001b[0;34m\"babenko\"\u001b[0m\u001b[0;34m]\u001b[0m\u001b[0;34m\u001b[0m\u001b[0;34m\u001b[0m\u001b[0m\n",
            "\u001b[0;32m<ipython-input-6-541068c3956b>\u001b[0m in \u001b[0;36mcreate_examples_dict\u001b[0;34m(directory, sample_rate)\u001b[0m\n\u001b[1;32m      3\u001b[0m \u001b[0;34m\u001b[0m\u001b[0m\n\u001b[1;32m      4\u001b[0m     \u001b[0mexamples\u001b[0m \u001b[0;34m=\u001b[0m \u001b[0;34m{\u001b[0m\u001b[0;34m}\u001b[0m\u001b[0;34m\u001b[0m\u001b[0;34m\u001b[0m\u001b[0m\n\u001b[0;32m----> 5\u001b[0;31m     \u001b[0;32mfor\u001b[0m \u001b[0mwav_path\u001b[0m \u001b[0;32min\u001b[0m \u001b[0mdirectory\u001b[0m\u001b[0;34m.\u001b[0m\u001b[0miterdir\u001b[0m\u001b[0;34m(\u001b[0m\u001b[0;34m)\u001b[0m\u001b[0;34m:\u001b[0m\u001b[0;34m\u001b[0m\u001b[0;34m\u001b[0m\u001b[0m\n\u001b[0m\u001b[1;32m      6\u001b[0m         \u001b[0;32mif\u001b[0m \u001b[0mwav_path\u001b[0m\u001b[0;34m.\u001b[0m\u001b[0msuffix\u001b[0m \u001b[0;34m==\u001b[0m \u001b[0;34m\".wav\"\u001b[0m\u001b[0;34m:\u001b[0m\u001b[0;34m\u001b[0m\u001b[0;34m\u001b[0m\u001b[0m\n\u001b[1;32m      7\u001b[0m             \u001b[0mwav\u001b[0m\u001b[0;34m,\u001b[0m \u001b[0msr\u001b[0m \u001b[0;34m=\u001b[0m \u001b[0mlibrosa\u001b[0m\u001b[0;34m.\u001b[0m\u001b[0mload\u001b[0m\u001b[0;34m(\u001b[0m\u001b[0mstr\u001b[0m\u001b[0;34m(\u001b[0m\u001b[0mwav_path\u001b[0m\u001b[0;34m)\u001b[0m\u001b[0;34m)\u001b[0m\u001b[0;34m\u001b[0m\u001b[0;34m\u001b[0m\u001b[0m\n",
            "\u001b[0;32m/usr/lib/python3.11/pathlib.py\u001b[0m in \u001b[0;36miterdir\u001b[0;34m(self)\u001b[0m\n\u001b[1;32m    929\u001b[0m         \u001b[0mresult\u001b[0m \u001b[0;32mfor\u001b[0m \u001b[0mthe\u001b[0m \u001b[0mspecial\u001b[0m \u001b[0mpaths\u001b[0m \u001b[0;34m'.'\u001b[0m \u001b[0;32mand\u001b[0m \u001b[0;34m'..'\u001b[0m\u001b[0;34m.\u001b[0m\u001b[0;34m\u001b[0m\u001b[0;34m\u001b[0m\u001b[0m\n\u001b[1;32m    930\u001b[0m         \"\"\"\n\u001b[0;32m--> 931\u001b[0;31m         \u001b[0;32mfor\u001b[0m \u001b[0mname\u001b[0m \u001b[0;32min\u001b[0m \u001b[0mos\u001b[0m\u001b[0;34m.\u001b[0m\u001b[0mlistdir\u001b[0m\u001b[0;34m(\u001b[0m\u001b[0mself\u001b[0m\u001b[0;34m)\u001b[0m\u001b[0;34m:\u001b[0m\u001b[0;34m\u001b[0m\u001b[0;34m\u001b[0m\u001b[0m\n\u001b[0m\u001b[1;32m    932\u001b[0m             \u001b[0;32myield\u001b[0m \u001b[0mself\u001b[0m\u001b[0;34m.\u001b[0m\u001b[0m_make_child_relpath\u001b[0m\u001b[0;34m(\u001b[0m\u001b[0mname\u001b[0m\u001b[0;34m)\u001b[0m\u001b[0;34m\u001b[0m\u001b[0;34m\u001b[0m\u001b[0m\n\u001b[1;32m    933\u001b[0m \u001b[0;34m\u001b[0m\u001b[0m\n",
            "\u001b[0;31mFileNotFoundError\u001b[0m: [Errno 2] No such file or directory: '../data/01_DSP/examples'"
          ]
        }
      ],
      "source": [
        "def create_examples_dict(directory=\"./data/01_DSP/examples\", sample_rate=sample_rate):\n",
        "    directory = Path(directory)\n",
        "\n",
        "    examples = {}\n",
        "    for wav_path in directory.iterdir():\n",
        "        if wav_path.suffix == \".wav\":\n",
        "            wav, sr = librosa.load(str(wav_path))\n",
        "            assert sr == sample_rate, f\"Working only with audio of sample_rate {sample_rate}\"\n",
        "            examples[wav_path.stem] = wav\n",
        "    return examples\n",
        "\n",
        "examples = create_examples_dict(directory=samples_path)\n",
        "wav = examples[\"babenko\"]"
      ]
    },
    {
      "cell_type": "code",
      "execution_count": null,
      "metadata": {
        "id": "jX57ij_RrIsU"
      },
      "outputs": [],
      "source": [
        "display(Audio(wav, rate=sample_rate))"
      ]
    },
    {
      "cell_type": "markdown",
      "metadata": {
        "id": "jkpWTtJvrIsU"
      },
      "source": [
        "We will apply our transformation to this wav. Then see how it changes."
      ]
    },
    {
      "cell_type": "markdown",
      "metadata": {
        "cellId": "bdm1d9f8birvk7p6y2rj9g",
        "execution_id": "031bc0a7-5c4c-45e5-af68-db7629137ae3",
        "jupyter": {
          "outputs_hidden": false
        },
        "id": "vX4QsLvKrIsU"
      },
      "source": [
        "### 1. WAV (Waveform Audio Format)\n",
        "\n",
        "Sound is recorded by a microphone. It registers a serie of amplitudes of air-pressure. The frequency, at which microphone records amplitudes is called sample-rate. Typicaly, this frequency can be 16kHz, 22kHz or 48kHz, depending on what quality of audio one aim to record.\n"
      ]
    },
    {
      "cell_type": "code",
      "execution_count": null,
      "metadata": {
        "id": "gETbVvogrIsV"
      },
      "outputs": [],
      "source": [
        "wav_44kHz, orig_sr = librosa.load(str(data_path / seminar_name / \"sample_44kHz.wav\"), sr=44100)\n",
        "print(f\"Original sample rate: {orig_sr}\")\n",
        "for target_sr in [44100, 24000, 22050, 16000, 8000, 4000]:\n",
        "    resampled_wav = librosa.resample(wav_44kHz, orig_sr=orig_sr, target_sr=target_sr)\n",
        "    print(f\"Resampled SR: {target_sr}\")\n",
        "    display(Audio(resampled_wav, rate=target_sr))"
      ]
    },
    {
      "cell_type": "markdown",
      "metadata": {
        "id": "bRNIEak4rIsV"
      },
      "source": [
        "In this seminar we will use samples recorded at 22kHz, which means that each second of recorded sound will contain 22 thousand (22050 actually) amplitude samples per second. Consider the short audio files below:"
      ]
    },
    {
      "cell_type": "code",
      "execution_count": null,
      "metadata": {
        "ExecuteTime": {
          "end_time": "2023-09-16T08:21:36.128869Z",
          "start_time": "2023-09-16T08:21:35.265622Z"
        },
        "cellId": "6hlhzqh8uup13q4dk81oyfe",
        "jupyter": {
          "outputs_hidden": false
        },
        "id": "VfxLYM4trIsV"
      },
      "outputs": [],
      "source": [
        "print(f\"{wav.shape=} {sample_rate=}\")\n",
        "display(Audio(wav, rate=sample_rate))"
      ]
    },
    {
      "cell_type": "code",
      "execution_count": null,
      "metadata": {
        "ExecuteTime": {
          "end_time": "2023-09-16T08:21:36.443133Z",
          "start_time": "2023-09-16T08:21:36.129499Z"
        },
        "cellId": "am5fprv5gj5tc0mloxg6vg",
        "jupyter": {
          "outputs_hidden": false
        },
        "id": "GfsMI9vvrIsV"
      },
      "outputs": [],
      "source": [
        "plot_wav(wav, sample_rate, end=None)"
      ]
    },
    {
      "cell_type": "markdown",
      "metadata": {
        "cellId": "2fxv0ilzujmfe4a4w2iren",
        "execution_id": "956fe4f7-b5ac-4ea3-82aa-d2c1750ca650",
        "jupyter": {
          "outputs_hidden": false
        },
        "id": "ICEAmggArIsW"
      },
      "source": [
        "As you can see, waveform is a redundant representation. __4-second__ audio sample where only __7 words__ are said, contains __87040__ amplitude samples! This is extremely difficult to process directly, because there's so many of them! It is far more than a typical sequence length for NLP applications. Thus, we need to compress this information to a more manageable size!"
      ]
    },
    {
      "cell_type": "markdown",
      "metadata": {
        "id": "skxIaHC5rIsW"
      },
      "source": [
        "A typical solution is to use __spectrogram__: instead of saving thousands of amplitudes, we can perform [Fourier transformation](https://en.wikipedia.org/wiki/Fourier_transform) to find which periodics are prevalent at each point in time. More formally, a spectrogram applies [Short-Time Fourier Transform (STFT)](https://en.wikipedia.org/wiki/Short-time_Fourier_transform) to small overlapping windows of the amplitude time-series. Let us describe this pipeline and step by step"
      ]
    },
    {
      "cell_type": "markdown",
      "metadata": {
        "id": "rDFgYsNYrIsW"
      },
      "source": [
        "### 1.1 Let's listen to different sample rates"
      ]
    },
    {
      "cell_type": "markdown",
      "metadata": {
        "cellId": "1gjbrmf4wqu5u9tg6jvien",
        "execution_id": "ba1e5846-1a77-4f43-b570-b41d5bfcc82e",
        "id": "DminOSIxrIsW"
      },
      "source": [
        "### 2. Windowing\n",
        "Our speech is non-stationary and varies over time. Thus, we do not want to apply DFT to the whole recording, as it does not help us to retrieve information from the recording. What we actually want - is to see how local spectral characteristics change over time. That's why we slice our recording into overlapping windows and apply DFT to this window. This slicing has two important characteristics:\n",
        "- **Window_size** - the size of the window. Typically, it is 1024 or 2048 samples, which is roughly 0.05 - 0.1 seconds of audio. (Really so small)\n",
        "- **Hop_length** - the size of the step, between starts of two contiguous windows. Usually is equals to window_size // 4.\n",
        "\n",
        "As the hop_length is smaller than window size, the windows overlap on each other. And each sample from the wav is duplicated (window_size // hop_length) times."
      ]
    },
    {
      "cell_type": "markdown",
      "metadata": {
        "cellId": "fcpe8y1em9df569krh5vcs",
        "execution_id": "c16fc83a-8e0d-4141-b2c6-be0c235354cd",
        "id": "-d-Oxp4irIsX"
      },
      "source": [
        "Now you need to implement Windowing class.\n",
        "- Middle of $i-th$ window (element of window with index `win_size // 2`) should lean on `(i * hop_length)`-th element of the original wav\n",
        "- To do that zero-pad left and right borders of the wav\n",
        "- The expectend number of windows is `(wav_size - window_size % 2) // hop_length + 1`"
      ]
    },
    {
      "cell_type": "markdown",
      "metadata": {
        "id": "0rzvKnLorIsX"
      },
      "source": [
        "**Assignment**: Implement `transforms.Windowing`"
      ]
    },
    {
      "cell_type": "code",
      "execution_count": null,
      "metadata": {
        "cellId": "a1g21n3lxqiza33qtv9yy",
        "id": "96MWc4AfrIsX"
      },
      "outputs": [],
      "source": [
        "assert test_windowing(testing_class=Windowing, n_repeats=1000)"
      ]
    },
    {
      "cell_type": "code",
      "execution_count": null,
      "metadata": {
        "cellId": "r031z1s2wbg7p6z685vbt2",
        "id": "StZLdh48rIsX"
      },
      "outputs": [],
      "source": [
        "start, length = 4000, 3584\n",
        "plot_windowing(wav[start:start + length], windowing_class=Windowing, n_subpictures=4)"
      ]
    },
    {
      "cell_type": "markdown",
      "metadata": {
        "id": "6JJU-tgjrIsX"
      },
      "source": [
        "This picture shows, how $0.16$ seconds of audio transform into several short frames, $0.09$ seconds each. The important thing here is that they intersect, quite significantly."
      ]
    },
    {
      "cell_type": "markdown",
      "metadata": {
        "id": "KnrdnBe4rIsY"
      },
      "source": [
        "Let's apply apply the transformation to the whole wav, and see what we've got."
      ]
    },
    {
      "cell_type": "code",
      "execution_count": null,
      "metadata": {
        "id": "IbgamESNrIsY"
      },
      "outputs": [],
      "source": [
        "windowing_transform = Windowing(window_size=2048, hop_length=512)\n",
        "windows = windowing_transform(wav)\n",
        "plot_windowed_wav(windows)\n"
      ]
    },
    {
      "cell_type": "markdown",
      "metadata": {
        "id": "lfWqH0D5rIsY"
      },
      "source": [
        "Doesn't look like something meaningful, so let's continue doing some other transforms"
      ]
    },
    {
      "cell_type": "markdown",
      "metadata": {
        "cellId": "pvgz9meyhsf3s42mob9dl",
        "execution_id": "cec263e2-c392-43cc-9bfd-ed7de67bd5a6",
        "id": "IXgJJNETrIsY"
      },
      "source": [
        "### 3. Hann window\n",
        "If we apply DFT to each window, resulted from the previous step, we'll get so called spectral leakage. Let me try to give you an intuition, of what it is:\n",
        "\n",
        "Fourier transform assumes, that the function is periodic and continuous.\n",
        "We can make function periodic, by pretending, that we loop it.\n",
        "But when we loop it, we break its continuousness, as the function does not match at the ends.\n",
        "To address this, we need our function to be equal from both sides, for example make it equal to zero.\n",
        "To smoothly bring the function to zero at the ends, we multiply it by hahn function elementwise.\n",
        "This function equals 1 in the middle, and zero at the ends (like on following picture)\n",
        "\n",
        "This guy explains that better:\n",
        "https://www.youtube.com/shorts/xoE2rnwFROs"
      ]
    },
    {
      "cell_type": "code",
      "execution_count": null,
      "metadata": {
        "id": "CO15wJwLrIsY"
      },
      "outputs": [],
      "source": [
        "plot_hann_window()"
      ]
    },
    {
      "cell_type": "markdown",
      "metadata": {
        "id": "N_WmtzEArIsY"
      },
      "source": [
        "To get Hann Window weights, you can use [scipy function](https://docs.scipy.org/doc/scipy/reference/generated/scipy.signal.windows.hann.html).\n",
        "Don't forget ot set `sym=False`."
      ]
    },
    {
      "cell_type": "markdown",
      "metadata": {
        "id": "nu4rpZjvrIsY"
      },
      "source": [
        "**Assignment**: Implement `transforms.Hann`"
      ]
    },
    {
      "cell_type": "code",
      "execution_count": null,
      "metadata": {
        "cellId": "jmi0cglw5zejlnjavk7gja",
        "id": "YiocBqJyrIsZ"
      },
      "outputs": [],
      "source": [
        "assert test_hann(testing_class=Hann)"
      ]
    },
    {
      "cell_type": "markdown",
      "metadata": {
        "cellId": "ocqc94np88kihrq74aqwx",
        "execution_id": "de1b118e-1cfe-411c-9004-a542c84eca71",
        "id": "WcI--_werIsZ"
      },
      "source": [
        "Let's see what we've got"
      ]
    },
    {
      "cell_type": "code",
      "execution_count": null,
      "metadata": {
        "cellId": "bnj6x5k9uplubviv9octl",
        "tags": [],
        "id": "GLercvdsrIsZ"
      },
      "outputs": [],
      "source": [
        "start1, start2, length = 4500, 10450, 2048\n",
        "demo_tensor = get_demo_tensor([wav[start1:start1 + length], wav[start2:start2 + length]])\n",
        "plot_hann(demo_tensor)"
      ]
    },
    {
      "cell_type": "markdown",
      "metadata": {
        "id": "6DqnRZ5LrIsZ"
      },
      "source": [
        "Let's apply our new transform to the windows we've got from the previous step."
      ]
    },
    {
      "cell_type": "code",
      "execution_count": null,
      "metadata": {
        "id": "2ClOm9vvrIsZ"
      },
      "outputs": [],
      "source": [
        "hann_transform = Hann(window_size=2048)\n",
        "hann_windows = hann_transform(windows)\n",
        "plot_windowed_wav(hann_windows)"
      ]
    },
    {
      "cell_type": "markdown",
      "metadata": {
        "cellId": "ob5kobj1lqaf5gcvpyoybb",
        "execution_id": "bf7e04f0-f887-43ca-871b-d0641cc0906a",
        "id": "2b2E5qM3rIsZ"
      },
      "source": [
        "### 4. FFT\n",
        "\n",
        "The Short-Time Fourier Transform (STFT) is based on the Fast Fourier Transform (FFT), which is a fast implementation of the Discrete Fourier Transform (DFT). DFT is actually what we want to do :)\n",
        "\n",
        "In numpy, there are two types of FFTs: [np.fft.fft](https://numpy.org/doc/stable/reference/generated/numpy.fft.fft.html#numpy.fft.fft) and [np.fft.rfft](https://numpy.org/doc/stable/reference/generated/numpy.fft.rfft.html#numpy.fft.rfft). Let's explore the differences between them.\n",
        "\n",
        "It's important to note that the results of these functions are complex-valued arrays.\n",
        "\n",
        "Below is a plot depicting the magnitudes and phases of both FFT and RFFT results."
      ]
    },
    {
      "cell_type": "code",
      "execution_count": null,
      "metadata": {
        "cellId": "erl8te7seke4grtcvloy1x",
        "tags": [],
        "id": "noDZCyYvrIsa"
      },
      "outputs": [],
      "source": [
        "plot_fft_difference()"
      ]
    },
    {
      "cell_type": "markdown",
      "metadata": {
        "cellId": "kk88m5zgpbo4b1pyh3mjc",
        "execution_id": "bbcc376f-efcd-4e93-9b1a-4f7f90231c17",
        "id": "31FRJ9gZrIsa"
      },
      "source": [
        "Let's understand, what happens on this plot.\n",
        "\n",
        "We've seen a formulae of DFT on the lecture:\n",
        "$$\n",
        "X(n) = \\sum_{k=0}^{N-1} x(k) e^{-2 \\pi i \\frac {n}{N}k}\n",
        "$$\n",
        "\n",
        "In this formulae $\\frac{n}{N}$ is the frequency, that we have over the x-axis.\n",
        "Let's deduce two important properties of this formulae.\n",
        "\n",
        "1) For complex $x(k)$\n",
        "$$\n",
        "X(N + n) = \\sum_{k=0}^{N-1} x(k) \\exp(-2 \\pi i \\frac{N + n}{N} k) = \\sum_{k=0}^{N-1} x(k) \\exp(-2 \\pi i \\frac{n}{N} k - \\cancel{2 \\pi i n k}) = \\sum_{k=0}^{N-1} x(k) \\exp(-2 \\pi i \\frac{n}{N} k) \\\\\n",
        "X(N + n) = X(n)\n",
        "$$\n",
        "\n",
        "2) For real $x(k)$\n",
        "$$\n",
        "X(N - n) = \\sum_{k=0}^{N-1} x(k) \\exp(-2 \\pi i \\frac{N - n}{N} k) = \\sum_{k=0}^{N-1} x(k) \\exp(2 \\pi i \\frac{n}{N} k - \\cancel{2 \\pi i n k}) = \\sum_{k=0}^{N-1} x(k) \\exp(2 \\pi i \\frac{n}{N} k) \\\\\n",
        "X(N - n) = X^{*}(n)\n",
        "$$\n",
        "\n",
        "What are the conclusions from this formulae.\n",
        "- The result of the formulae is periodical with period $N$. That's why if we want to colculate several values of this function for several frequencies, we can take frequencies $n$ from a range of size $N$.\n",
        "- In the implementation of DFT in numpy ([np.fft.fft](https://numpy.org/doc/stable/reference/generated/numpy.fft.fft.html#numpy.fft.fft])) this range is chosen to be $n \\in [- \\frac{N}{2}; + \\frac{N}{2}]$, or in terms of numpy : $\\frac{n}{N} \\in [-\\frac{1}{2}; +\\frac{1}{2}]$.\n",
        "- We work with real-value samples as input of this function. And we want the absolutes of the results. That means, that according to formulae 2, we will get a symmetric result, $|X(n)| == |X^{*}(N - n)|$.\n",
        "- For this case we have another function [np.fft.rfft](https://numpy.org/doc/stable/reference/generated/numpy.fft.rfft.html), which calculates the DFT for range $n \\in [0, \\frac{N}{2}]$.\n",
        "\n",
        "The same exact explanation you can see in [np.fft documentation](https://numpy.org/doc/stable/reference/routines.fft.html)."
      ]
    },
    {
      "cell_type": "markdown",
      "metadata": {
        "id": "n3eBIgxWrIsa"
      },
      "source": [
        "Now, given this knowledge, let's implement the DFT method.\n",
        "What is it expected to do:\n",
        "- Get the real-value matrix and apply DFT transformation to each of this column.\n",
        "- Return the real-value result.\n",
        "- It has `n_freqs` parameter. If it is `None`, we return all of the frequencies. If it is an integer, we return only the `n_freqs` lowest frequencies."
      ]
    },
    {
      "cell_type": "markdown",
      "metadata": {
        "id": "2EB357qsrIsa"
      },
      "source": [
        "**Assignment**: Implement `transforms.DFT`"
      ]
    },
    {
      "cell_type": "code",
      "execution_count": null,
      "metadata": {
        "cellId": "iaip6gsgb47qy4gr6u011",
        "tags": [],
        "id": "o_DjNExfrIsa"
      },
      "outputs": [],
      "source": [
        "assert test_dft(testing_class=DFT)"
      ]
    },
    {
      "cell_type": "markdown",
      "metadata": {
        "cellId": "931x8futt7t5t1yk24dezp",
        "execution_id": "fe810a25-2fee-4445-8ecd-bc3c888a2b30",
        "id": "7N9kTqR6rIsa"
      },
      "source": [
        "Now let's see what we've got"
      ]
    },
    {
      "cell_type": "code",
      "execution_count": null,
      "metadata": {
        "id": "NrcxwCblrIsa"
      },
      "outputs": [],
      "source": [
        "dft_transform = DFT()\n",
        "spec = dft_transform(hann_windows)\n",
        "plot_dft(spec)"
      ]
    },
    {
      "cell_type": "markdown",
      "metadata": {
        "cellId": "tcjax0zum5kolwxjk31nrb",
        "execution_id": "f269c82e-8334-47e0-a252-e2a8f8dde839",
        "id": "5f_ptge8rIsa"
      },
      "source": [
        "### 5. MelScale\n",
        "\n",
        "Initially one second of audio wav represented by 16k samples per second.\n",
        "We have transformed our wav in more convenient form but bitrate of the wav stayed almost the same $~(sample\\_rate \\ // \\ hop\\_length) \\times n\\_fft \\simeq 16k$ floats, representing 1 secong of audio. We won 2x space we get rid imaginary part of the signal and switched to the energy of harmonics. We lost space because overlaping of fft windows.\n",
        "\n",
        "But now we can use our knowledge of psychoacoustic as not all frequencies are useful.\n",
        "Different frequencies of the spectrum have different contribution for audio perception.\n",
        "Low frequencies are more important and high frequencies are less important as it was explained in the first lecture.\n",
        "We can apply to spectrogram by multiplying amplitudes on mel-scale matrix.\n",
        "You can see one below."
      ]
    },
    {
      "cell_type": "code",
      "execution_count": null,
      "metadata": {
        "cellId": "3r2kwh8cbi3stbidnhrs4",
        "tags": [],
        "id": "lk3h7si9rIsb"
      },
      "outputs": [],
      "source": [
        "plot_mel_scale()"
      ]
    },
    {
      "cell_type": "markdown",
      "metadata": {
        "cellId": "zxybv5wc1qp36ar5y13yr",
        "execution_id": "5acc680b-e993-4827-b2b6-a3b9b633d559",
        "tags": [],
        "id": "9byiRl-RrIsb"
      },
      "source": [
        "By multiblying each column of the spectrogram on this matrix, we reduce the number of \"frequencies\".\n",
        "\n",
        "As you can see low frequencies here have higher weight, higher frequencies - lower weights.\n",
        "Very high frequencies are even ignored.\n",
        "\n",
        "Another good property, that we have achieved - is that the importance of each mel bin for human comprehesion is equal.\n",
        "\n",
        "We can also condider this transformation reversible.\n",
        "For restoration of a spectrogram from mel, we can use pseudo-inverse matrix."
      ]
    },
    {
      "cell_type": "markdown",
      "metadata": {
        "cellId": "1aba4d9xco6i8dvnf7s0qj",
        "execution_id": "dc20cae9-7d73-4ca8-b5c4-3a9e23a76bcb",
        "id": "bhHDs5c2rIsb"
      },
      "source": [
        "To get the mel matrix use [this](https://librosa.org/doc/latest/generated/librosa.filters.mel.html) function with hyperparameters `fmin=1, fmax=8192`. For pseudo-inverse matrix, use [this implementation](https://numpy.org/doc/stable/reference/generated/numpy.linalg.pinv.html)."
      ]
    },
    {
      "cell_type": "markdown",
      "metadata": {
        "id": "jur8GfodrIsb"
      },
      "source": [
        "**Assignment**: Implement `transforms.Mel` (both `__call__` and `restore` methods)"
      ]
    },
    {
      "cell_type": "code",
      "execution_count": null,
      "metadata": {
        "cellId": "065ei245oeqacxk1kwxs3t",
        "id": "GV1aE1-crIsb"
      },
      "outputs": [],
      "source": [
        "assert test_mel(testing_class=Mel)"
      ]
    },
    {
      "cell_type": "code",
      "execution_count": null,
      "metadata": {
        "cellId": "3mpzn0ll70gwsmizbqyhn",
        "id": "hBG3MgdXrIsb"
      },
      "outputs": [],
      "source": [
        "wav_to_spec = Wav2Spectrogram(window_size=1024, hop_length=256, n_freqs=None)\n",
        "spec_to_mel = Mel(n_fft=1024, n_mels=80, sample_rate=22050)\n",
        "\n",
        "spec = wav_to_spec(examples[\"diesel\"])\n",
        "mel = spec_to_mel(spec)"
      ]
    },
    {
      "cell_type": "code",
      "execution_count": null,
      "metadata": {
        "cellId": "4ryfqgmh359b83irre2yp",
        "id": "mcGsC2TXrIsb"
      },
      "outputs": [],
      "source": [
        "plot_spec_mel(spec, mel)"
      ]
    },
    {
      "cell_type": "markdown",
      "metadata": {
        "cellId": "rn1p6ddhuuncn9d7s8nk",
        "execution_id": "279019a6-2e69-4ac1-9f2f-d8718da551cc",
        "id": "CY1TzN1drIsb"
      },
      "source": [
        "Let's see how pseudo-inverse matrix restores the spectrogram"
      ]
    },
    {
      "cell_type": "code",
      "execution_count": null,
      "metadata": {
        "cellId": "bjvucx9j3ug4ravg2o50w",
        "id": "JwtbtebyrIsc"
      },
      "outputs": [],
      "source": [
        "restored_spec = spec_to_mel.restore(mel)\n",
        "plot_restored_spec(spec, restored_spec)"
      ]
    },
    {
      "cell_type": "markdown",
      "metadata": {
        "cellId": "ampqi0sn73enjkgip08gw",
        "execution_id": "8461434c-d03b-4c54-b696-74de3067c994",
        "id": "U_Rfxut7rIsc"
      },
      "source": [
        "Visually, we got pretty much the same. Yet the difference is still noticable."
      ]
    },
    {
      "cell_type": "markdown",
      "metadata": {
        "cellId": "qf9vqv0d4f39namtwyh1v",
        "execution_id": "84c674dc-c3fb-47c0-b730-249f4f649e94",
        "id": "XIw1hJBBrIsc"
      },
      "source": [
        "### 6. Let's watch what we've implemented\n",
        "\n",
        "Now we got the final representation of audio, which can then be fed to a neural network, or some other algorithm.\n",
        "Why we like log-mel representation?\n",
        "\n",
        "- It is more compact than spectrogam\n",
        "- It is more informative than spectrogram\n",
        "- You can watch on the spectrogram and notice the basic characteristics of the audio: pitch, amount of noise, loudness and so on.\n",
        "\n",
        "What is constraints about logmel representation?\n",
        "\n",
        "- There is no phase information which important for some noise reduction algorithms\n",
        "- It is lossy comppression based on specific assumtion. Thus, it is not suitable for some specific scenarios like analysis of dolphins communications.\n",
        "\n",
        "For analysis of human perceptive signals it works very well. So Let's draw some specs and try to notice some insights from them"
      ]
    },
    {
      "cell_type": "code",
      "execution_count": null,
      "metadata": {
        "cellId": "0woiiio26uzm7qktxt19jk",
        "id": "-_WEHRXlrIsc"
      },
      "outputs": [],
      "source": [
        "plot_wav_and_mel(examples)"
      ]
    },
    {
      "cell_type": "markdown",
      "metadata": {
        "id": "AxNj49o_rIsc"
      },
      "source": [
        "## Homework section"
      ]
    },
    {
      "cell_type": "markdown",
      "metadata": {
        "cellId": "d3iag90vwj9ljr73545acs",
        "execution_id": "8b2552f9-9f5b-40ac-8a61-041ebb88977b",
        "id": "A07UwWAkrIsc"
      },
      "source": [
        "### 7. Vocoding\n",
        "\n",
        "In the upcoming chapters, we will need to convert the spectrogram back to the waveform, a process known as vocoding. Logically, this involves performing the inverse discrete Fourier transform of the Discrete Fourier Transform (DFT) results. However, in many cases, we work with log-mel spectrograms of a signal and lack the phase information of the signal.\n",
        "\n",
        "\n",
        "The simplest way to address vocoding is GriffinLim algorithm.\n",
        "Shortly, uses intersection of windows to windows to estimate phases.\n",
        "It is implemented in Wav2Spectrogram.restore method for you.\n",
        "We do not cover this algorithm in our course, but if you are curious enough to figure out how it works, follow the [link](https://paperswithcode.com/method/griffin-lim-algorithm)"
      ]
    },
    {
      "cell_type": "markdown",
      "metadata": {
        "cellId": "tnwdsrihqrjyq8b05rlmii",
        "id": "R52ca9curIsc"
      },
      "source": [
        "### 8. Spectrogram transformations\n",
        "\n",
        "Now, as we know how to transform wav to mel spectrogram and backward, we can implement some transformation of audio in mel space.\n",
        "\n",
        "__Assignment:__\n",
        "\n",
        "Go to the `transforms` file and mplement the following transformations over mels:\n",
        "\n",
        "* `TimeReverse` - inverses time.\n",
        "* `Loudness` - increase/decrease loudness by a given factor. All mel bins are increased proprtionally.\n",
        "* `PitchDown`, `PitchUp` - make audio sound lower and higher. Move mels up or down, and fills the remaininl mel bins with zeros.\n",
        "* `SpeedUpDown` - increase/decrease speed of the recording by a given factor. (The same thing you do with this seminar if you watch it recorded=)). The number of mel frames equals to `int(speed_up_factor * number_of_mel_frames)`. And the frames are copied. Each frame with index `idx` is copied to `round(idx * speed_up_factor)`\n",
        "* `VerticalSwap` - Swap the mels over Y-axis. Let's see what will happen\n",
        "* `WeakFrequenciesRemoval` - let's assume, that frequencies with low amplitude are not interesting for us. Let's zero frequencies smaller, than a certain quantile and see, what it changes.\n",
        "* `Cringe1`, `Cringe2` - use your imagination to create a some funny transfomration"
      ]
    },
    {
      "cell_type": "code",
      "execution_count": null,
      "metadata": {
        "cellId": "3wnzk26vnwbm13u06lknmk",
        "id": "0N1EwujmrIsc"
      },
      "outputs": [],
      "source": [
        "def show_transformation(transform_class, wav, kwargs):\n",
        "    sample_rate = 22050\n",
        "    wav2mel = Wav2Mel(\n",
        "        window_size=1024,\n",
        "        hop_length=256,\n",
        "        n_freqs=None,\n",
        "        n_mels=80,\n",
        "        sample_rate=sample_rate)\n",
        "\n",
        "    mel_transform = transform_class(**kwargs)\n",
        "\n",
        "    mel = wav2mel(wav)\n",
        "    transformed_mel = mel_transform(mel)\n",
        "    transformed_wav = wav2mel.restore(transformed_mel)\n",
        "\n",
        "    display(Audio(wav, rate=sample_rate))\n",
        "    display(Audio(transformed_wav, rate=sample_rate))\n",
        "    plot_transformed_mels(mel, transformed_mel)\n",
        "    plt.show()"
      ]
    },
    {
      "cell_type": "markdown",
      "metadata": {
        "id": "ksTVWzX0rIsc"
      },
      "source": [
        "You can test and listen the classes you implement, by commenting and uncommenting lines in following dict."
      ]
    },
    {
      "cell_type": "code",
      "execution_count": null,
      "metadata": {
        "cellId": "bbjr2neoesl7mwk0vxvcnk",
        "id": "xHzU3YT_rIsc"
      },
      "outputs": [],
      "source": [
        "testing_triplets = [\n",
        "    (TimeReverse, {}, test_time_reverse),\n",
        "    (Loudness, {\"loudness_factor\": 0.5}, test_loudness),\n",
        "    (Loudness, {\"loudness_factor\": 2.0}, test_loudness),\n",
        "    (PitchUp, {\"num_mels_up\": 5}, test_pitch_up),\n",
        "    (PitchUp, {\"num_mels_up\": 10}, test_pitch_up),\n",
        "    (PitchDown, {\"num_mels_down\": 5}, test_pitch_down),\n",
        "    (PitchDown, {\"num_mels_down\": 10}, test_pitch_down),\n",
        "    (SpeedUpDown, {\"speed_up_factor\": 0.5}, test_speed_up_down),\n",
        "    (SpeedUpDown, {\"speed_up_factor\": 0.8}, test_speed_up_down),\n",
        "    (SpeedUpDown, {\"speed_up_factor\": 1.2}, test_speed_up_down),\n",
        "    (SpeedUpDown, {\"speed_up_factor\": 2.0}, test_speed_up_down),\n",
        "    (FrequenciesSwap, {}, test_frequencies_swap),\n",
        "    (WeakFrequenciesRemoval, {\"quantile\": 0.9}, test_weak_frequencies_removal),\n",
        "    (WeakFrequenciesRemoval, {\"quantile\": 0.99}, test_weak_frequencies_removal),\n",
        "    (Cringe1, {}, test_dummy),\n",
        "    (Cringe2, {}, test_dummy),\n",
        "]\n",
        "\n",
        "for test_class, kwargs, testing_function in testing_triplets:\n",
        "    print(f\"{test_class.__name__}\")\n",
        "    try:\n",
        "        assert testing_function(testing_class=test_class)\n",
        "        show_transformation(test_class, wav, kwargs)\n",
        "    except NotImplementedError as e:\n",
        "        print(f\"Class {test_class.__name__} is not implemented yet\")"
      ]
    }
  ],
  "metadata": {
    "kernelspec": {
      "display_name": "course",
      "language": "python",
      "name": "python3"
    },
    "language_info": {
      "codemirror_mode": {
        "name": "ipython",
        "version": 3
      },
      "file_extension": ".py",
      "mimetype": "text/x-python",
      "name": "python",
      "nbconvert_exporter": "python",
      "pygments_lexer": "ipython3",
      "version": "3.12.2"
    },
    "notebookId": "6af21e1c-312c-4266-a129-fb8b6c821873",
    "notebookPath": "YSDA_speech_course_private/01_DSP/seminar.ipynb",
    "colab": {
      "provenance": []
    }
  },
  "nbformat": 4,
  "nbformat_minor": 0
}